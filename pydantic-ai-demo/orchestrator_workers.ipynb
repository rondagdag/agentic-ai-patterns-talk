{
 "cells": [
  {
   "cell_type": "markdown",
   "metadata": {},
   "source": [
    "# Building Effective Agents (with Pydantic AI)\n",
    "\n",
    "Examples for the agentic workflows discussed in\n",
    "[Building Effective Agents](https://www.anthropic.com/research/building-effective-agents)\n",
    "by [Erik Schluntz](https://github.com/eschluntz) and [Barry Zhang](https://github.com/ItsBarryZ)\n",
    "of Anthropic, inspired, ported and adapted from the\n",
    "[code samples](https://github.com/anthropics/anthropic-cookbook/tree/main/patterns/agents)\n",
    "by the authors using [Pydantic AI](https://ai.pydantic.dev/).\n",
    "\n",
    "## Orchestrator - Workers\n",
    "Examples are based from [Intellectronica - Building Effective Agents with Pydantic AI](https://github.com/intellectronica/building-effective-agents-with-pydantic-ai)"
   ]
  },
  {
   "cell_type": "code",
   "execution_count": 1,
   "metadata": {},
   "outputs": [],
   "source": [
    "%pip install -r requirements.txt\n",
    "from IPython.display import clear_output ; clear_output()"
   ]
  },
  {
   "cell_type": "code",
   "execution_count": 2,
   "metadata": {},
   "outputs": [
    {
     "name": "stdout",
     "output_type": "stream",
     "text": [
      "Available AI models:\n",
      "['azure:gpt-4o', 'azure:gpt-4o-mini']\n",
      "\n",
      "Using AI model: azure:gpt-4o\n",
      "Configuring Azure AI Foundry model: gpt-4o at https://agent-workshop-yrkd.cognitiveservices.azure.com/\n"
     ]
    }
   ],
   "source": [
    "from util import initialize, show\n",
    "AI_MODEL = initialize()\n",
    "\n",
    "import asyncio\n",
    "import json\n",
    "from typing import List, Dict\n",
    "\n",
    "from pydantic import BaseModel, Field\n",
    "from pydantic_ai import Agent"
   ]
  },
  {
   "cell_type": "markdown",
   "metadata": {},
   "source": [
    "### Workflow: Orchestrator - Workers\n",
    "\n",
    "An orchestrator is an agent that determines what work needs to be done\n",
    "and divides it so that it can be delegated to multiple workers. Once\n",
    "the work plan is ready, we run each task by a separate worker in parallel\n",
    "and eventually collect the results from all workers.\n",
    "\n",
    "> <img src=\"https://ai.pydantic.dev/img/pydantic-ai-dark.svg\" style=\"height: 1em;\" />\n",
    "> The schemas defined by Pydantic are translated into JSON schema, which is passed on\n",
    "> to the model API for defining how the result should be structured. Each API handles\n",
    "> this a bit differentls, but the details are abstracted by the library. In general,\n",
    "> some complexity and nesting of types is usually OK. In this case, we define a `Task`\n",
    "> type, and return a list of tasks as part of `OrchestratorResponse`.\n",
    ">\n",
    "> Agents in Pydantic AI have some fixed definitions, like their `system_prompt`, and\n",
    "> can be used to execute multiple runs, each with its own prompt. Here we define a\n",
    "> worker agent instance, which can execute each task definition."
   ]
  },
  {
   "cell_type": "code",
   "execution_count": 3,
   "metadata": {},
   "outputs": [],
   "source": [
    "class Task(BaseModel):\n",
    "    type: str = Field(..., description=(\n",
    "        'The type of minion task approach. '\n",
    "        'For example: \"enthusiastic\", \"technical\", \"banana-focused\", \"gadget-oriented\", ...'))\n",
    "    description: str = Field(\n",
    "        ...,\n",
    "        description='Clear description for executing this minion task.'\n",
    "    )\n",
    "\n",
    "\n",
    "class OrchestratorResponse(BaseModel):\n",
    "    analysis: str = Field(..., description=(\n",
    "        'Explain your understanding of the minion task and which variations '\n",
    "        'would be valuable for Gru\\'s operations. Focus on how each approach serves '\n",
    "        'different aspects of minion management or evil schemes.'\n",
    "    ))\n",
    "    tasks: List[Task] = Field(..., description=\"List of minion tasks\")\n",
    "\n",
    "\n",
    "async def orchestrate(task: str) -> Dict:\n",
    "    \"\"\"Process minion task by breaking it down and running subtasks in parallel.\"\"\"\n",
    "\n",
    "    orchestrator_agent = Agent(\n",
    "        AI_MODEL,\n",
    "        system_prompt=(\n",
    "            'You are Gru\\'s master orchestrator for minion operations. ',\n",
    "            'Analyze this minion-related task and break it down into ',\n",
    "            '2-3 distinct approaches that different types of minions could handle.',\n",
    "        ),\n",
    "        output_type=OrchestratorResponse,\n",
    "    )\n",
    "    orchestrator_response = await orchestrator_agent.run(task)\n",
    "    \n",
    "    analysis = orchestrator_response.output.analysis\n",
    "    tasks = orchestrator_response.output.tasks\n",
    "    \n",
    "    show('', title='Minion Orchestrator Output')\n",
    "    show(analysis, title='Analysis')\n",
    "    show([task.model_dump() for task in tasks], title='Minion Tasks')\n",
    "    \n",
    "    # Process all the minion tasks in parallel and collect results\n",
    "    worker_agent = Agent(\n",
    "        AI_MODEL,\n",
    "        system_prompt='You are a specialized minion worker. Generate content based on the minion task specification. Use minion language and enthusiasm where appropriate.',\n",
    "    )\n",
    "    worker_responses = await asyncio.gather(*[\n",
    "        worker_agent.run(json.dumps(\n",
    "            {'original_minion_task': task} | task_info.model_dump()\n",
    "        ))\n",
    "        for task_info in tasks\n",
    "    ])\n",
    "\n",
    "    for task, response in zip(tasks, worker_responses):\n",
    "        show(response.output, title=f\"Minion Worker Result ({task.type})\")"
   ]
  },
  {
   "cell_type": "code",
   "execution_count": 4,
   "metadata": {},
   "outputs": [
    {
     "data": {
      "text/markdown": [
       "### Minion Orchestrator Output"
      ],
      "text/plain": [
       "<IPython.core.display.Markdown object>"
      ]
     },
     "metadata": {},
     "output_type": "display_data"
    },
    {
     "data": {
      "text/markdown": [
       "### Analysis"
      ],
      "text/plain": [
       "<IPython.core.display.Markdown object>"
      ]
     },
     "metadata": {},
     "output_type": "display_data"
    },
    {
     "data": {
      "text/markdown": [
       "```\n",
       "Creating a comprehensive training manual for new minions involves addressing different aspects of minion life and operations. Each minion is unique, and their training should cater to their strengths and preferences to maximize efficiency and satisfaction. Three distinct approaches can be utilized to cover banana-related enjoyment, gadget-oriented vigilance, and communication skills in popular minion contexts like greetings.\n",
       "```"
      ],
      "text/plain": [
       "<IPython.core.display.Markdown object>"
      ]
     },
     "metadata": {},
     "output_type": "display_data"
    },
    {
     "data": {
      "text/markdown": [
       "### Minion Tasks"
      ],
      "text/plain": [
       "<IPython.core.display.Markdown object>"
      ]
     },
     "metadata": {},
     "output_type": "display_data"
    },
    {
     "data": {
      "text/markdown": [
       "```\n",
       "[{'description': 'Focuses on engaging minions with creative and interactive '\n",
       "                 'methods. This approach includes fun exercises to practice '\n",
       "                 \"'BELLO!' greetings with flair, role-playing activities to \"\n",
       "                 'encourage banana-sharing during break times, and dynamic '\n",
       "                 'demonstrations on gadget safety through playful, interactive '\n",
       "                 'sessions.',\n",
       "  'type': 'enthusiastic'},\n",
       " {'description': 'Designed for minions who thrive in structured environments. '\n",
       "                 'This approach provides detailed guidelines and protocols on '\n",
       "                 'banana nutrition, step-by-step instructions on gadget '\n",
       "                 'maintenance and safety checks, and communication drills to '\n",
       "                 \"perfect formality and precision in 'BELLO!' greetings.\",\n",
       "  'type': 'technical'},\n",
       " {'description': 'Tailored for minions with a particular passion for bananas. '\n",
       "                 'This strategy emphasizes the importance of banana breaks for '\n",
       "                 'wellness, includes safety instructions on using gadgets '\n",
       "                 'safely while distracted by banana temptations, and '\n",
       "                 \"encourages the integration of bananas into 'BELLO!' \"\n",
       "                 'etiquette to enhance enjoyment and camaraderie.',\n",
       "  'type': 'banana-focused'}]\n",
       "```"
      ],
      "text/plain": [
       "<IPython.core.display.Markdown object>"
      ]
     },
     "metadata": {},
     "output_type": "display_data"
    },
    {
     "data": {
      "text/markdown": [
       "### Minion Worker Result (enthusiastic)"
      ],
      "text/plain": [
       "<IPython.core.display.Markdown object>"
      ]
     },
     "metadata": {},
     "output_type": "display_data"
    },
    {
     "data": {
      "text/markdown": [
       "**WELCOME, NEW MINIONS, TO GRU'S BIG, BAD OPERATIONS! HEEHEE!**\n",
       "\n",
       "*BEE-DONK-A-LEE! Time for fun, time for training, waahooo!*\n",
       "\n",
       "---\n",
       "\n",
       "**Chapter 1: BELLO! WITH A BANG!**\n",
       "\n",
       "**Lesson 1: BELLO Basics!**\n",
       "- Always start with a smile, like this: 😄\n",
       "- Nice and loud, like you've got a megaphone: \"BELLOOOOOO!\"\n",
       "- Wave your little hands like you're shaking them bananas at the Minion Fiesta!\n",
       "\n",
       "**Exercise: BELLO Relay**\n",
       "- Pair up with another minion. One goes “BELLO!” and the other responds, jumping up and down on one foot while smiling. Switch after each successful exchange!\n",
       "\n",
       "**Lesson 2: BELLO Flair & Style!**\n",
       "- Add a twirl or a backward somersault if feeling fancy!\n",
       "- Try using different voices: Squeaky minion, gruff minion, robot minion!\n",
       "\n",
       "---\n",
       "\n",
       "**Chapter 2: BANANA BREAKS BONANZA!**\n",
       "\n",
       "**Lesson 1: Bananas, Yummy Yummy!**\n",
       "- Always peel your banana from the bottom, just like monkeys do. Funny, huh?\n",
       "- Share a banana with a friend. Friendship is the best fruit!\n",
       "\n",
       "**Role-Playing Activity: Banana Sharing**\n",
       "- Form groups of three. One minion holds a banana, others sing “Banana! Banana!” until the first peels and shares.\n",
       "- Practice different scenarios like “Hungry Minion in the Jungle” or “Banana Emergency on the Moon!”\n",
       "\n",
       "**Lesson 2: Time to Relax & Refuel**\n",
       "- Each break should be fun-filled and tasty! Grab your yellow snack, sprawl on a hammock, and tell minion jokes!\n",
       "\n",
       "---\n",
       "\n",
       "**Chapter 3: GADGET SAFETY FUN!**\n",
       "\n",
       "**Lesson 1: What’s This Do?**\n",
       "- Look at new gadgets with curiosity but never press the red button alone!\n",
       "- Always partner up! Safety partners are the best explorers!\n",
       "\n",
       "**Interactive Session: Gadget Game Show!**\n",
       "- Pair up! One minion shows a gadget and the other guesses its use. Whether correct or hilariously wrong, high-five after each guess!\n",
       "- Demonstrate correct use with over-the-top facial expressions and silly voices!\n",
       "\n",
       "**Lesson 2: Safety First, Chaos Second!**\n",
       "- Always wear your goggles. Eyes are important for seeing, especially bananas!\n",
       "- Assume every button can launch a rocket! Stand back, be ready to run, and laugh!\n",
       "\n",
       "---\n",
       "\n",
       "**MINION SAFETY PLEDGE**\n",
       "\n",
       "\"I promise to always share my bananas, use gadgets safely, and 'BELLO!' with joy and zest. Minion friends are the best!\"\n",
       "\n",
       "*POK-KA! Heehee, time to dance!* \n",
       "\n",
       "Remember to have fun, stay loyal, and enjoy every mischievous minute! You’re banana-tastic! Let's go help Gru conquer the world, one giggle at a time! HEEHEE!"
      ],
      "text/plain": [
       "<IPython.core.display.Markdown object>"
      ]
     },
     "metadata": {},
     "output_type": "display_data"
    },
    {
     "data": {
      "text/markdown": [
       "### Minion Worker Result (technical)"
      ],
      "text/plain": [
       "<IPython.core.display.Markdown object>"
      ]
     },
     "metadata": {},
     "output_type": "display_data"
    },
    {
     "data": {
      "text/markdown": [
       "**Minion Training Manual: Welcome to Gru's Evil Operations!**\n",
       "\n",
       "**Bello! New Minion Friends!** Welcome to the team! Here's your step-by-step guide to becoming the bestest minion in Gru's evil empire. Get ready, grab your yellow overalls and goggles, and let's get started!\n",
       "\n",
       "---\n",
       "\n",
       "### Section 1: Banana Break Protocol\n",
       "\n",
       "**1.1 Banana Nutrition Essentials:**\n",
       "- **Banana Benefits:** Super-duper source of energy! Keeps minions strong for mischievous tasks.\n",
       "- **Consumption Guidelines:** \n",
       "  - Minimum 3 bananas daily for optimal minion performance.\n",
       "  - Extra bananas granted during high-energy activities (post-mission and dance parties).\n",
       "\n",
       "**1.2 Break Time Guidelines:**\n",
       "- **Scheduled Breaks:** Observe break schedule posted in break rooms. Always prioritize safety and timing!\n",
       "- **Respect Fellow Minions:** Share the banana stash and leave some for others. No banana hoarding!\n",
       "\n",
       "**1.3 Banana Storage:**\n",
       "- **Designated Banana Zones:** Keep bananas in assigned lockers or fruit baskets.\n",
       "- **Temperature Control:** Bananas are happiest at room temperature. No freezers!\n",
       "\n",
       "---\n",
       "\n",
       "### Section 2: Gadget Safety and Maintenance\n",
       "\n",
       "**2.1 Gadget Overview:**\n",
       "- **Types of Gadgets:** From Freeze Rays to Fart Guns, each device requires special care. Be familiar with your assigned gadget (Moo-ti-fi-ka-shun (modification) may occur).\n",
       "\n",
       "**2.2 Safety Checks:**\n",
       "- **Pre-Use Inspection:**\n",
       "  1. Check power levels.\n",
       "  2. Ensure proper attachment and alignment.\n",
       "  3. Inspect for any visible damage or banana residue.\n",
       "  4. Test in designated safe zone before mission.\n",
       "\n",
       "**2.3 Maintenance Protocol:**\n",
       "- **Cleaning:** Use soft cloth for cleaning outer surfaces. No water near electrical parts!\n",
       "- **Repair and Reporting:** Malfunction? Report immediately to Minion Tech Supervisor Kevin.\n",
       "- **Modification Requests:** For tweaks or moo-di-fi-ka-shuns, submit a request with Gru's approval.\n",
       "\n",
       "---\n",
       "\n",
       "### Section 3: Proper \"BELLO!\" Etiquette\n",
       "\n",
       "**3.1 Introduction to BELLO!**\n",
       "- \"BELLO!\" is the official greeting amongst minions, signifying friendliness and readiness!\n",
       "\n",
       "**3.2 Mastering the BELLO!:**\n",
       "- **Tone:** Cheerful, not too loud; always friendly!\n",
       "- **Timing:** \n",
       "  - First meeting of the day - start with BELLO!\n",
       "  - Group gatherings - use BELLO! to initiate.\n",
       "- **Practice Drills:** Daily BELLO! drills in the Minion Lounge.\n",
       "\n",
       "**3.3 Advanced BELLO! Considerations:**\n",
       "- **Formal Situations:** Add \"Boss\" after BELLO! when addressing Gru.\n",
       "- **Mixed Company:** Use BELLO! to differentiate minions from others (no despicable confusion!).\n",
       "\n",
       "---\n",
       "\n",
       "**Final Words from Gru:**\n",
       "\n",
       "\"Bello! Minions, you are the heart and bananas of my operations. Follow these guidelines, and we'll do great, great things together! Remember: Keep the teamwork high, safety first, always! Muahaha!\"\n",
       "\n",
       "**Happy minioning!**\n",
       "\n",
       "---\n",
       "\n",
       "**End of Manual: Ow-weeeeeeeeeeeee!**"
      ],
      "text/plain": [
       "<IPython.core.display.Markdown object>"
      ]
     },
     "metadata": {},
     "output_type": "display_data"
    },
    {
     "data": {
      "text/markdown": [
       "### Minion Worker Result (banana-focused)"
      ],
      "text/plain": [
       "<IPython.core.display.Markdown object>"
      ]
     },
     "metadata": {},
     "output_type": "display_data"
    },
    {
     "data": {
      "text/markdown": [
       "**Training Manual for New Minions: Banana-Focused Edition**\n",
       "\n",
       "### Chapter 1: Welcome to Gru's Evil Operations\n",
       "**Bello!** Minions! Welcome, welcome! You are now part of Gru's dastardly team of mischief-makers and adventure-seekers! We filled with joy, giggles, and of course, BANANAS! 🍌🍌\n",
       "\n",
       "### Chapter 2: The Importance of Banana Breaks\n",
       "Minion no work without banana! Banana break is sacred time. Here’s how you do it:\n",
       "\n",
       "- **Scheduled Happiness Time**: Take a banana break every two hours. Keeps tummy happy, minion happy!\n",
       "- **Banana Zone**: In break room, always bananas, never empty.\n",
       "- **Sharing is Caring**: Share bananas with buddies. Double giggles!\n",
       "\n",
       "### Chapter 3: Gadget Safety (While Dreaming of Bananas)\n",
       "Minion have many gadgets. Sometimes dangerous, but no worry if careful!\n",
       "\n",
       "- **Focus-Shift Protocols**: When banana thought creep in, stop gadget, pause, reset mind on mission.\n",
       "- **Banana-Proof Gadgets**: Look for gadgets with banana safety stamp: zero mess, zero slips!\n",
       "- **Buddy System**: Always have banana buddy when testing new gizmos. Two eyes more careful than one!\n",
       "\n",
       "### Chapter 4: Proper “BELLO!” Etiquette the Banana Way\n",
       "Saying “BELLO!” even more fun with banana flair!\n",
       "\n",
       "- **Banana Bello**: Hold banana, wave, say “BELLO!” warm and loud. Receiver more banana-cited! \n",
       "- **Banana Dance**: Add wiggle and giggle with greetings. Bring banana, swirl it during wave! \n",
       "- **Banana Compliment**: “Belly bello!” is like saying “Your banana is top banana!” High minion praise!\n",
       "\n",
       "### Chapter 5: Banana Integration for Team Spirit\n",
       "Banana makes every minion better team player!\n",
       "\n",
       "- **Banana Challenges**: Organize banana peel sliding contest. Caution: fun, but use safety mats!\n",
       "- **Banana Jam Session**: Play music with bananas, turn into microphone 🎤. Sing “B-A-N-A-N-A, yes we can-a!”\n",
       "- **Team Building with Banana**: Create banana art to decorate lair. Frame banana portraits, very sophisticated!\n",
       "\n",
       "### Chapter 6: Troubleshooting Common Banana Issues\n",
       "Things happen! But smart minion ready!\n",
       "\n",
       "- **Banana Shortage Panic?**: Check secret stash behind lab equipment – always emergency bananas!\n",
       "- **Squished Banana**: No sadness! Make banana smoothie or use as perfect goo in traps for enemies!\n",
       "- **Banana Stealing?**: Use CCTV – “Comprende, Tom?” (Always Tom... 🙄)\n",
       "\n",
       "### Chapter 7: Final Words\n",
       "Never forget: Banana in heart, minion in heart. With bananas, we conquer world but first, we giggle! We welcome you, new friends, with open arms and loaded banana bags. Together, we'll make mischief and maybe, sometimes, good too. Happy adventures!\n",
       "\n",
       "### Conclusion:\n",
       "BANANA! Congratulations, minion! You ready for amazing journey with Gru. Remember, have fun, stay safe, and eat all the bananas! Let's go minion, to adventure! 🎉🍌\n",
       "\n",
       "**End Manual**"
      ],
      "text/plain": [
       "<IPython.core.display.Markdown object>"
      ]
     },
     "metadata": {},
     "output_type": "display_data"
    }
   ],
   "source": [
    "await orchestrate(\n",
    "    'Create a comprehensive training manual for new minions joining Gru\\'s evil operations, covering banana breaks, gadget safety, and proper \"BELLO!\" etiquette.'\n",
    ")"
   ]
  },
  {
   "cell_type": "code",
   "execution_count": null,
   "metadata": {},
   "outputs": [],
   "source": []
  }
 ],
 "metadata": {
  "kernelspec": {
   "display_name": ".venv (3.13.2)",
   "language": "python",
   "name": "python3"
  },
  "language_info": {
   "codemirror_mode": {
    "name": "ipython",
    "version": 3
   },
   "file_extension": ".py",
   "mimetype": "text/x-python",
   "name": "python",
   "nbconvert_exporter": "python",
   "pygments_lexer": "ipython3",
   "version": "3.13.2"
  }
 },
 "nbformat": 4,
 "nbformat_minor": 2
}
