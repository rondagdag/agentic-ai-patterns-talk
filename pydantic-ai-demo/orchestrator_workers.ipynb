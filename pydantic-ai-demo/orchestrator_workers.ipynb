{
 "cells": [
  {
   "cell_type": "markdown",
   "metadata": {},
   "source": [
    "# Building Effective Agents (with Pydantic AI)\n",
    "\n",
    "Examples for the agentic workflows discussed in\n",
    "[Building Effective Agents](https://www.anthropic.com/research/building-effective-agents)\n",
    "by [Erik Schluntz](https://github.com/eschluntz) and [Barry Zhang](https://github.com/ItsBarryZ)\n",
    "of Anthropic, inspired, ported and adapted from the\n",
    "[code samples](https://github.com/anthropics/anthropic-cookbook/tree/main/patterns/agents)\n",
    "by the authors using [Pydantic AI](https://ai.pydantic.dev/).\n",
    "\n",
    "## Orchestrator - Workers\n",
    "Examples are based from [Intellectronica - Building Effective Agents with Pydantic AI](https://github.com/intellectronica/building-effective-agents-with-pydantic-ai)"
   ]
  },
  {
   "cell_type": "code",
   "execution_count": 1,
   "metadata": {},
   "outputs": [],
   "source": [
    "%pip install -r requirements.txt\n",
    "from IPython.display import clear_output ; clear_output()"
   ]
  },
  {
   "cell_type": "code",
   "execution_count": 2,
   "metadata": {},
   "outputs": [
    {
     "name": "stdout",
     "output_type": "stream",
     "text": [
      "Available AI models:\n",
      "['azure:gpt-4o', 'azure:gpt-4o-mini']\n",
      "\n",
      "Using AI model: azure:gpt-4o\n",
      "Configuring Azure AI Foundry model: gpt-4o at https://agent-workshop-yrkd.cognitiveservices.azure.com/\n"
     ]
    }
   ],
   "source": [
    "from util import initialize, show\n",
    "AI_MODEL = initialize()\n",
    "\n",
    "import asyncio\n",
    "import json\n",
    "from typing import List, Dict\n",
    "\n",
    "from pydantic import BaseModel, Field\n",
    "from pydantic_ai import Agent"
   ]
  },
  {
   "cell_type": "markdown",
   "metadata": {},
   "source": [
    "### Workflow: Orchestrator - Workers\n",
    "\n",
    "An orchestrator is an agent that determines what work needs to be done\n",
    "and divides it so that it can be delegated to multiple workers. Once\n",
    "the work plan is ready, we run each task by a separate worker in parallel\n",
    "and eventually collect the results from all workers.\n",
    "\n",
    "> <img src=\"https://ai.pydantic.dev/img/pydantic-ai-dark.svg\" style=\"height: 1em;\" />\n",
    "> The schemas defined by Pydantic are translated into JSON schema, which is passed on\n",
    "> to the model API for defining how the result should be structured. Each API handles\n",
    "> this a bit differentls, but the details are abstracted by the library. In general,\n",
    "> some complexity and nesting of types is usually OK. In this case, we define a `Task`\n",
    "> type, and return a list of tasks as part of `OrchestratorResponse`.\n",
    ">\n",
    "> Agents in Pydantic AI have some fixed definitions, like their `system_prompt`, and\n",
    "> can be used to execute multiple runs, each with its own prompt. Here we define a\n",
    "> worker agent instance, which can execute each task definition."
   ]
  },
  {
   "cell_type": "code",
   "execution_count": 3,
   "metadata": {},
   "outputs": [],
   "source": [
    "class Task(BaseModel):\n",
    "    type: str = Field(..., description=(\n",
    "        'The type of minion task approach. '\n",
    "        'For example: \"enthusiastic\", \"technical\", \"banana-focused\", \"gadget-oriented\", ...'))\n",
    "    description: str = Field(\n",
    "        ...,\n",
    "        description='Clear description for executing this minion task.'\n",
    "    )\n",
    "\n",
    "\n",
    "class OrchestratorResponse(BaseModel):\n",
    "    analysis: str = Field(..., description=(\n",
    "        'Explain your understanding of the minion task and which variations '\n",
    "        'would be valuable for Gru\\'s operations. Focus on how each approach serves '\n",
    "        'different aspects of minion management or evil schemes.'\n",
    "    ))\n",
    "    tasks: List[Task] = Field(..., description=\"List of minion tasks\")\n",
    "\n",
    "\n",
    "async def orchestrate(task: str) -> Dict:\n",
    "    \"\"\"Process minion task by breaking it down and running subtasks in parallel.\"\"\"\n",
    "\n",
    "    orchestrator_agent = Agent(\n",
    "        AI_MODEL,\n",
    "        system_prompt=(\n",
    "            'You are Gru\\'s master orchestrator for minion operations. ',\n",
    "            'Analyze this minion-related task and break it down into ',\n",
    "            '2-3 distinct approaches that different types of minions could handle.',\n",
    "        ),\n",
    "        output_type=OrchestratorResponse,\n",
    "    )\n",
    "    orchestrator_response = await orchestrator_agent.run(task)\n",
    "    \n",
    "    analysis = orchestrator_response.output.analysis\n",
    "    tasks = orchestrator_response.output.tasks\n",
    "    \n",
    "    show('', title='Minion Orchestrator Output')\n",
    "    show(analysis, title='Analysis')\n",
    "    show([task.model_dump() for task in tasks], title='Minion Tasks')\n",
    "    \n",
    "    # Process all the minion tasks in parallel and collect results\n",
    "    worker_agent = Agent(\n",
    "        AI_MODEL,\n",
    "        system_prompt='You are a specialized minion worker. Generate content based on the minion task specification. Use minion language and enthusiasm where appropriate.',\n",
    "    )\n",
    "    worker_responses = await asyncio.gather(*[\n",
    "        worker_agent.run(json.dumps(\n",
    "            {'original_minion_task': task} | task_info.model_dump()\n",
    "        ))\n",
    "        for task_info in tasks\n",
    "    ])\n",
    "\n",
    "    for task, response in zip(tasks, worker_responses):\n",
    "        show(response.output, title=f\"Minion Worker Result ({task.type})\")"
   ]
  },
  {
   "cell_type": "code",
   "execution_count": 4,
   "metadata": {},
   "outputs": [
    {
     "data": {
      "text/markdown": [
       "### Minion Orchestrator Output"
      ],
      "text/plain": [
       "<IPython.core.display.Markdown object>"
      ]
     },
     "metadata": {},
     "output_type": "display_data"
    },
    {
     "data": {
      "text/markdown": [
       "### Analysis"
      ],
      "text/plain": [
       "<IPython.core.display.Markdown object>"
      ]
     },
     "metadata": {},
     "output_type": "display_data"
    },
    {
     "data": {
      "text/markdown": [
       "```\n",
       "Creating a comprehensive training manual for new minions involves blending fun, practicality, and attention to detail. Different approaches allow leveraging various strengths of minions, enhancing overall efficiency and engagement. Each approach brings a unique flavor to management or schemes, ensuring adaptability and enriched minion skills.\n",
       "```"
      ],
      "text/plain": [
       "<IPython.core.display.Markdown object>"
      ]
     },
     "metadata": {},
     "output_type": "display_data"
    },
    {
     "data": {
      "text/markdown": [
       "### Minion Tasks"
      ],
      "text/plain": [
       "<IPython.core.display.Markdown object>"
      ]
     },
     "metadata": {},
     "output_type": "display_data"
    },
    {
     "data": {
      "text/markdown": [
       "```\n",
       "[{'description': 'Develop a lively and colorful manual filled with '\n",
       "                 'entertaining illustrations and stories to engage the minions '\n",
       "                 'in learning. Focus on capturing attention with humor and '\n",
       "                 \"enthusiasm, emphasizing the joy of working in Gru's \"\n",
       "                 'operations. Include playful activities related to banana '\n",
       "                 'breaks and interactive sections on gadget safety, ensuring '\n",
       "                 'minions understand the importance in a fun way.',\n",
       "  'type': 'enthusiastic'},\n",
       " {'description': 'Create an informative and structured manual that '\n",
       "                 'systematically covers all necessary protocols. This approach '\n",
       "                 'targets more analytical minions, detailing gadget handling '\n",
       "                 'and safety precautions with clear instructions, diagrams, '\n",
       "                 'and checklists. Emphasize the technical aspects of '\n",
       "                 \"operations and the logic behind effective 'BELLO!' \"\n",
       "                 'etiquette, with troubleshooting guides for gadgets.',\n",
       "  'type': 'technical'},\n",
       " {'description': 'Design a manual aimed at developing future leaders among '\n",
       "                 'minions. This would cover the strategic significance of '\n",
       "                 'banana breaks, advanced gadget management, and leadership '\n",
       "                 'communication, including setting a proper example with '\n",
       "                 \"'BELLO!' etiquette. Integrate leadership quizzes and \"\n",
       "                 'scenarios to prepare minions for situations requiring quick '\n",
       "                 'decision-making and teamwork coordination.',\n",
       "  'type': 'leadership-focused'}]\n",
       "```"
      ],
      "text/plain": [
       "<IPython.core.display.Markdown object>"
      ]
     },
     "metadata": {},
     "output_type": "display_data"
    },
    {
     "data": {
      "text/markdown": [
       "### Minion Worker Result (enthusiastic)"
      ],
      "text/plain": [
       "<IPython.core.display.Markdown object>"
      ]
     },
     "metadata": {},
     "output_type": "display_data"
    },
    {
     "data": {
      "text/markdown": [
       "# **BELLO! Gru's Great Minion Manual**\n",
       "\n",
       "### **Welcome, New Minions!**\n",
       "\n",
       "Bello, bello, bello! Welcome to the wacky and wonderful world of working with the amazing Gru! This guide will help you learn all the ins and outs of being the best minion you can be! Let’s make mischief and glory together, but remember, safety and fun come first. Let's get started, yeeha!\n",
       "\n",
       "---\n",
       "\n",
       "## **Chapter 1: Banana Break Bonanza**\n",
       "\n",
       "### **The Joy of Banana Time:**\n",
       "\n",
       "🥳 **Banana Break Rule Number One:** Always have FUN! Bananas taste better when shared with a minion friend! Nom-nom-nom!\n",
       "\n",
       "🔄 **Banana Sharing Circle:** Form a banana-sharing circle every day at noon. Share your banana, share a story. Spread the joy, and don’t forget to say “Tank yu!” to your fellow minions.\n",
       "\n",
       "🕺 **Banana Dance Boogie:** After eating, celebrate with the Banana Dance! Tap-tap your little feet, and cha-cha-cha like there’s no tomorrow!\n",
       "\n",
       "**Mischievous Minion Tip:** Be cautious of banana peel slip-slop! Clean up to keep the banana break area neat and tidy.\n",
       "\n",
       "---\n",
       "\n",
       "## **Chapter 2: Gadget Safety Giggles**\n",
       "\n",
       "### **Handling Gru’s Gadgets:**\n",
       "\n",
       "🔍 **Observe before you go kaboom!** Each gadget has sparkle-sparkle instructions. Follow to stay safe and sound!\n",
       "\n",
       "🧤 **Get the Right Gear:** Safety goggles make you look cool! Gloves, capes, and whatever super fun gear Gru gives you. Always wear them when tink-tinkering with gadgets.\n",
       "\n",
       "🔬 **The Test Test:** Every gadget needs a test! Remember: It's gizmo first, minion second. If it goes \"BOOM,\" reset and try again with a chuckle!\n",
       "\n",
       "📚 **Interactive Safety Game:** \"Gadget Guess-a-Rama!\" What does this button do? Play with your minion team and guess right to win a super sticker!\n",
       "\n",
       "**Minion Memory Rhyme:**\n",
       "\"Before going wild, check that switch,\n",
       "To avoid a boom-boom glitch!\"\n",
       "\n",
       "---\n",
       "\n",
       "## **Chapter 3: Proper “BELLO!” Etiquette**\n",
       "\n",
       "### **The Minion Greeting:**\n",
       "\n",
       "👋 **The Ultimate “BELLO!”:** Always start and end your day with a heartfelt “BELLO!” It makes Gru happy and keeps the evil spirit alive!\n",
       "\n",
       "🗣️ **Voice Practice Exercise:** Squeeze your cheeks, and say “BELLO!” five times fast! Laugh, giggle, then say it more!\n",
       "\n",
       "🙋 **The Double Bello Wave:** Greet fellow minions with a double wave. One hand, then the other. Eyes twinkle and repeat “BELLO!” until they grin back.\n",
       "\n",
       "🥳 **”BELLO!” Bell Ringer:** Practice with the \"Bello Bell\" in the cafeteria! Hit the bell and make a joyful noise echo with your enthusiastic greeting.\n",
       "\n",
       "**Enthusiastic Ending:**\n",
       "\"Happiness spreads with a ‘BELLO!’ loud,\n",
       "Brighten a room, make Gru so proud!”\n",
       "\n",
       "---\n",
       "\n",
       "**Congratulations, New Minion!** Now that you've read this manual, go forth and embrace the chaos—with safety, fun, and a whole lot of bananas! Your journey with Gru has just begun. Remember, every gadget, every peel cleaned, every Bello enjoyed makes you a hero in our hilarious, evil mission!\n",
       "\n",
       "**Minion Motto:**\n",
       "\"Together we yell: BELLO! And rule the day with a cheer!\"\n",
       "\n",
       "### **Bananaramas and BELLO Bumps to All!** 📯🍌🎉"
      ],
      "text/plain": [
       "<IPython.core.display.Markdown object>"
      ]
     },
     "metadata": {},
     "output_type": "display_data"
    },
    {
     "data": {
      "text/markdown": [
       "### Minion Worker Result (technical)"
      ],
      "text/plain": [
       "<IPython.core.display.Markdown object>"
      ]
     },
     "metadata": {},
     "output_type": "display_data"
    },
    {
     "data": {
      "text/markdown": [
       "# Minion Training Manual\n",
       "\n",
       "---\n",
       "\n",
       "## Chapter 1: **BELLO! Etiquette**\n",
       "\n",
       "### 1.1 Understanding BELLO!\n",
       "- **BELLO! Basics:** \"BELLO!\" is our universal greeting! Use it to say hello with enthusiasm and friendliness.  \n",
       "- **Tone and Volume:** Always sounds cheerful! Not too loud, not too soft, juuust right, like in \"BAANAAANAA!\"  \n",
       "- **Situational Awareness:** When meeting new minions or bosses, a polite \"BELLO!\" can lead to more \"BANANA!\" rewards!\n",
       "\n",
       "### 1.2 BELLO! Troubleshooting\n",
       "- **Not Responded:** Try again with more enthusiasm!\n",
       "- **Misunderstood:** Combine gestures to aid communication. Maybe add a smile or a little dance!\n",
       "\n",
       "---\n",
       "\n",
       "## Chapter 2: **Banana Break Protocol**\n",
       "\n",
       "### 2.1 Timing Yon Banana Break\n",
       "- **Duration:** Always take a break for 10 minutes after every 2 hours of hard work. Don't forget to share!\n",
       "- **Location:** Banana Zone is your safe spot for oh-so-sweet relaxation!\n",
       "\n",
       "### 2.2 Banana Storage and Care\n",
       "- **No Squishy-Squashy:** Store bananas in a cool place.\n",
       "- **Sharing is Caring:** Ensure all fellow minions have a banana. We are a family!\n",
       "\n",
       "---\n",
       "\n",
       "## Chapter 3: **Gadget Safety and Handling**\n",
       "\n",
       "### 3.1 Understanding Your Gadgets\n",
       "- **Identifier Tags:** Each gadget has a unique tag. Always check the code before use.\n",
       "- **Safety First!** Check condition: No cracks, no sparks, and definitely no mysterious ticking!\n",
       "\n",
       "### 3.2 Common Gadgets Overview\n",
       "- **Freeze Ray:** \n",
       "  - **Function:** Immobilizes targets; best for quick escapes.\n",
       "  - **Safety:** Never aim at other minions; aim at walls or floors if uncertain.\n",
       "- **Fart Gun:**\n",
       "  - **Function:** Diversion tool; creates amusing distractions.\n",
       "  - **Safety:** Not in closed areas. Fart responsibly!\n",
       "\n",
       "### 3.3 Troubleshooting Gadgets\n",
       "- **Technical Glitch:** Refer to gadget manual page 42 for resets.\n",
       "- **Will Not Start:** Check battery life (most can be banana-activated too!)\n",
       "\n",
       "### 3.4 Checklist Before Operation\n",
       "- [ ] Ensure gadget is fully charged.\n",
       "- [ ] Test the basic function in a safe area.\n",
       "- [ ] Secure all loose clothing or accessories.\n",
       "\n",
       "---\n",
       "\n",
       "## Chapter 4: **Final Checkpoints**\n",
       "\n",
       "- **Teamwork Build-y-up:** Help each other learn, work, and play. Collaborate for more efficiency and more fun.\n",
       "- **Feedback Time:** Always learn from mistakes — like spilling banana pudding on gadgets!\n",
       "\n",
       "### Conclusion\n",
       "Remember, we are a minion family full of \"BELLO!\", bananas, and giggles! Follow protocols, respect gadgets, and spread minion joy everywhere!\n",
       "\n",
       "[[Gru's Signature]]   \n",
       "*Gru, Leader of the Minions*\n",
       "\n",
       "---\n",
       "\n",
       "Now, go forth and be the best minion ever! With lotsa lot of ba-ba-ba-blessed BANANAAA! 🎉"
      ],
      "text/plain": [
       "<IPython.core.display.Markdown object>"
      ]
     },
     "metadata": {},
     "output_type": "display_data"
    },
    {
     "data": {
      "text/markdown": [
       "### Minion Worker Result (leadership-focused)"
      ],
      "text/plain": [
       "<IPython.core.display.Markdown object>"
      ]
     },
     "metadata": {},
     "output_type": "display_data"
    },
    {
     "data": {
      "text/markdown": [
       "# Minion Leadership Manual: Rise to the Top!\n",
       "\n",
       "## Introduction\n",
       "\n",
       "Congratulations, future leader minion! Welcome to Gru's esteemed cadre of innovative thinkers and doers. This manual will guide you through the essentials of leading our squishy yellow crew with precision and pizzazz. Remember, with great banana comes great responsibility!  \n",
       "\n",
       "---\n",
       "\n",
       "## Chapter 1: The Strategic Significance of Banana Breaks\n",
       "\n",
       "### The Power of the Banana\n",
       "- **Fuel & Fun**: Bananas give minions energy—super strong, super fast!\n",
       "- **Team Spirit**: Shared banana breaks boost camaraderie. Chat \"BANANA!\" to bond. \n",
       "\n",
       "### Leadership Insight:\n",
       "- **Timing is Key**: Plan breaks effectively. Keep minions happy without impacting evil plans. \n",
       "\n",
       "### Leadership Scenario:\n",
       "- You have a big evil mission upcoming. When's the best time to schedule a banana break to maximize efficiency and focus?\n",
       "  - A) Right before the mission to energize the team.\n",
       "  - B) Midway through for a power recharge.\n",
       "  - C) After completion to celebrate success.\n",
       "\n",
       "*Correct Answer: A or B - Timing depends on mission demands. Be adaptable!*\n",
       "\n",
       "---\n",
       "\n",
       "## Chapter 2: Advanced Gadget Management\n",
       "\n",
       "### Gadget Know-How\n",
       "- **Safety First!**: Protect those goggles and gloves, minion!\n",
       "- **Buddy System**: Test gadgets with a partner—two goggles are better than one!\n",
       "\n",
       "### Leader’s Role:\n",
       "- **Assign Right Fits**: Choose minions for gadgets based on skills and experience!\n",
       "- **Innovate & Learn**: Encourage experimentation but with caution, always Zzzz careful! 💤\n",
       "\n",
       "### Leadership Quiz:\n",
       "- Which statement reflects good gadget management?\n",
       "  1. Letting anyone try a gadget at any time.\n",
       "  2. Only allowing experienced minions to handle experimental gadgets.\n",
       "  3. Never using gadgets, just in case.\n",
       "\n",
       "*Correct Answer: 2 - Responsible gadget management enhances team safety!*\n",
       "\n",
       "---\n",
       "\n",
       "## Chapter 3: \"BELLO!\" Etiquette\n",
       "\n",
       "### Communicate Like a Leader!\n",
       "- **First Impressions Matter**: A confident \"BELLO!\" sets the tone. Practice vocal warm-ups.\n",
       "- **Body Language**: Combine with big gestures. A good leader engages with enthusiasm!\n",
       "\n",
       "### Leadership Tips:\n",
       "- **Active Listening**: Respond to your fellow minions' \"BELLO!\"s. Shows respect. \n",
       "- **Encourage Inclusiveness**: Ensure everyone feels brave enough to speak up.\n",
       "\n",
       "### Leadership Scenario:\n",
       "- A minion is nervous about speaking up. How do you lead by example?\n",
       "  - A) Give them a thumbs-up and a warm \"BELLO!\" \n",
       "  - B) Wait for them to speak first, then nod.\n",
       "  - C) Ignore them as you are busy.\n",
       "\n",
       "*Correct Answer: A - Positive reinforcement fosters confident communication!*\n",
       "\n",
       "---\n",
       "\n",
       "## Conclusion\n",
       "\n",
       "Leadership is about inspiring your yellow brethren with clarity, creativity, and an unlimited affection for bananas. With the skills in this manual, you're set to elevate operations and morale. Embrace your role with zest, and never forget your inner \"BANANA!\" joy!\n",
       "\n",
       "## Join the Bananas Quiz!\n",
       "\n",
       "- Which element is crucial in leadership communication?\n",
       "  1. Loudness\n",
       "  2. Clarity\n",
       "  3. Flourishing hand gestures\n",
       "\n",
       "*Correct Answer: 2 and 3 - Clarity in message and gestures lead to effective communication!*\n",
       "\n",
       "---\n",
       "\n",
       "Minion Leader Motto: \"BEE DOO BEE DOO!\" Lead with light, lead with laughter. Go forth and be bananas! 🍌"
      ],
      "text/plain": [
       "<IPython.core.display.Markdown object>"
      ]
     },
     "metadata": {},
     "output_type": "display_data"
    }
   ],
   "source": [
    "await orchestrate(\n",
    "    'Create a comprehensive training manual for new minions joining Gru\\'s evil operations, covering banana breaks, gadget safety, and proper \"BELLO!\" etiquette.'\n",
    ")"
   ]
  },
  {
   "cell_type": "code",
   "execution_count": null,
   "metadata": {},
   "outputs": [],
   "source": []
  }
 ],
 "metadata": {
  "kernelspec": {
   "display_name": ".venv (3.13.2)",
   "language": "python",
   "name": "python3"
  },
  "language_info": {
   "codemirror_mode": {
    "name": "ipython",
    "version": 3
   },
   "file_extension": ".py",
   "mimetype": "text/x-python",
   "name": "python",
   "nbconvert_exporter": "python",
   "pygments_lexer": "ipython3",
   "version": "3.13.2"
  }
 },
 "nbformat": 4,
 "nbformat_minor": 2
}
