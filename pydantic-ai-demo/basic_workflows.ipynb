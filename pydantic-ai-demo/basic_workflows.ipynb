{
 "cells": [
  {
   "cell_type": "markdown",
   "metadata": {},
   "source": [
    "# Building Effective Agents (with Pydantic AI)\n",
    "\n",
    "Examples for the agentic workflows discussed in\n",
    "[Building Effective Agents](https://www.anthropic.com/research/building-effective-agents)\n",
    "by [Erik Schluntz](https://github.com/eschluntz) and [Barry Zhang](https://github.com/ItsBarryZ)\n",
    "of Anthropic, inspired, ported and adapted from the\n",
    "[code samples](https://github.com/anthropics/anthropic-cookbook/tree/main/patterns/agents)\n",
    "by the authors using [Pydantic AI](https://ai.pydantic.dev/).\n",
    "\n",
    "## Basic Workflows\n",
    "Examples are based from [Intellectronica - Building Effective Agents with Pydantic AI](https://github.com/intellectronica/building-effective-agents-with-pydantic-ai)"
   ]
  },
  {
   "cell_type": "code",
   "execution_count": 1,
   "metadata": {},
   "outputs": [],
   "source": [
    "%pip install -r requirements.txt\n",
    "from IPython.display import clear_output ; clear_output()"
   ]
  },
  {
   "cell_type": "code",
   "execution_count": 2,
   "metadata": {},
   "outputs": [
    {
     "name": "stdout",
     "output_type": "stream",
     "text": [
      "Available AI models:\n",
      "['azure:gpt-4o', 'azure:gpt-4o-mini']\n",
      "\n",
      "Using AI model: azure:gpt-4o\n",
      "Configuring Azure AI Foundry model: gpt-4o at https://agent-workshop-yrkd.cognitiveservices.azure.com/\n",
      "\n",
      "✅ Successfully initialized with model type: <class 'pydantic_ai.models.openai.OpenAIModel'>\n",
      "🤖 Using Ollama model via OpenAI-compatible interface\n"
     ]
    }
   ],
   "source": [
    "# Import and initialize the AI model\n",
    "from util import initialize, show\n",
    "AI_MODEL = initialize()\n",
    "\n",
    "import asyncio\n",
    "from typing import List, Dict\n",
    "\n",
    "from pydantic import BaseModel, Field\n",
    "from pydantic_ai import Agent\n",
    "\n",
    "print(f\"\\n✅ Successfully initialized with model type: {type(AI_MODEL)}\")\n",
    "if hasattr(AI_MODEL, 'model_name'):\n",
    "    print(f\"🤖 Using Ollama model via OpenAI-compatible interface\")\n",
    "else:\n",
    "    print(f\"🤖 Using standard model: {AI_MODEL}\")"
   ]
  },
  {
   "cell_type": "markdown",
   "metadata": {},
   "source": [
    "### Workflow: Prompt Chaining\n",
    "\n",
    "The first and simplest workflow, chaining, we feed the output of one LLM\n",
    "call to the next one, and complete our task step by step.\n",
    "\n",
    "> <img src=\"https://ai.pydantic.dev/img/pydantic-ai-dark.svg\" style=\"height: 1em;\" />\n",
    "> All LLM calls are handled by the `Agent` class. One feature we take advantage of\n",
    "> here is a consistent interface for different LLM providers. The model name is\n",
    "> provided to the constructor and from there, the calls are the same regardless of\n",
    "> which provider and model we are using."
   ]
  },
  {
   "cell_type": "markdown",
   "metadata": {},
   "source": [
    "### 🚀 Ollama Integration\n",
    "\n",
    "This notebook now supports **Ollama** models alongside OpenAI, Anthropic, and Google models! \n",
    "\n",
    "#### How it works:\n",
    "- **Automatic Detection**: The `util.py` automatically detects available Ollama models by running `ollama list`\n",
    "- **OpenAI-Compatible Interface**: Ollama models are accessed through Pydantic AI's OpenAI-compatible interface\n",
    "- **Seamless Integration**: Use `Agent(AI_MODEL)` exactly the same way regardless of the underlying model\n",
    "\n",
    "#### Configuration:\n",
    "- **Automatic**: Just have Ollama running with models installed\n",
    "- **Manual**: Set `AI_MODEL=ollama:model-name` in your `.env` file\n",
    "- **Custom URL**: Set `OLLAMA_BASE_URL` if using a remote Ollama server\n",
    "\n",
    "#### Available Models:\n",
    "The system automatically detects all your locally installed Ollama models. Popular choices include:\n",
    "- `llama3.2` - Meta's latest Llama model\n",
    "- `mistral` - Mistral AI's efficient model  \n",
    "- `deepseek-coder` - Specialized coding model\n",
    "- `phi4-mini` - Microsoft's compact model\n",
    "\n",
    "> 💡 **Tip**: You can switch between any supported model by setting the `AI_MODEL` environment variable!"
   ]
  },
  {
   "cell_type": "markdown",
   "metadata": {},
   "source": [
    "### 🌐 Azure AI Foundry Integration\n",
    "\n",
    "This notebook now supports **Azure AI Foundry** models alongside OpenAI, Anthropic, Google, and Ollama models! \n",
    "\n",
    "#### How it works:\n",
    "- **Seamless Integration**: Azure models are accessed through Pydantic AI's Azure provider\n",
    "- **Automatic Configuration**: The `util.py` automatically configures Azure models when `azure:` prefix is used\n",
    "- **Enterprise Ready**: Perfect for enterprise deployments with Azure compliance and security\n",
    "\n",
    "#### Configuration:\n",
    "1. **Create Azure AI Foundry Project**: Visit [Azure AI Foundry](https://ai.azure.com/) and create a project\n",
    "2. **Deploy Models**: Deploy models like GPT-4o or GPT-4o-mini in your project\n",
    "3. **Get Credentials**: Find your API key and endpoint in project settings\n",
    "4. **Set Environment Variables**:\n",
    "   ```bash\n",
    "   AZURE_API_KEY=your-azure-api-key\n",
    "   AZURE_ENDPOINT=https://your-resource.openai.azure.com/\n",
    "   AZURE_API_VERSION=2024-08-01-preview\n",
    "   AI_MODEL=azure:gpt-4o\n",
    "   ```\n",
    "\n",
    "#### Available Models:\n",
    "Azure AI Foundry supports various OpenAI models through deployment:\n",
    "- `gpt-4o` - Latest GPT-4 Optimized model\n",
    "- `gpt-4o-mini` - Faster, cost-effective GPT-4 variant\n",
    "- `gpt-4-turbo` - High-performance GPT-4 model\n",
    "- `gpt-3.5-turbo` - Efficient GPT-3.5 model\n",
    "\n",
    "> 💡 **Enterprise Tip**: Azure AI Foundry provides enterprise-grade security, compliance, and data residency controls perfect for production deployments!"
   ]
  },
  {
   "cell_type": "code",
   "execution_count": 3,
   "metadata": {},
   "outputs": [
    {
     "name": "stdout",
     "output_type": "stream",
     "text": [
      "💡 Azure AI Foundry models are automatically configured when using 'azure:' prefix in AI_MODEL\n",
      "🔧 The util.py handles all the Azure provider setup for you!\n",
      "ℹ️  Current model: OpenAIModel() (not Azure)\n",
      "   To use Azure, set AI_MODEL=azure:gpt-4o in your .env file\n"
     ]
    }
   ],
   "source": [
    "# Example of Azure AI Foundry configuration (for reference only)\n",
    "# This shows how Azure models are configured internally by util.py\n",
    "\n",
    "\"\"\"\n",
    "from pydantic_ai.models.openai import OpenAIModel\n",
    "from pydantic_ai.providers.azure import AzureProvider\n",
    "\n",
    "# Azure AI Foundry model configuration\n",
    "azure_model = OpenAIModel(\n",
    "    model_name='gpt-4o',  # Your deployed model name\n",
    "    provider=AzureProvider(\n",
    "        azure_endpoint='https://your-resource.openai.azure.com/',\n",
    "        api_version='2024-08-01-preview',\n",
    "        api_key='your-azure-api-key'\n",
    "    )\n",
    ")\n",
    "\n",
    "# Use with Agent\n",
    "from pydantic_ai import Agent\n",
    "agent = Agent(azure_model)\n",
    "\"\"\"\n",
    "\n",
    "print(\"💡 Azure AI Foundry models are automatically configured when using 'azure:' prefix in AI_MODEL\")\n",
    "print(\"🔧 The util.py handles all the Azure provider setup for you!\")\n",
    "\n",
    "if hasattr(AI_MODEL, 'provider') and 'Azure' in str(type(AI_MODEL.provider)):\n",
    "    print(f\"✅ Currently using Azure AI Foundry model: {AI_MODEL.model_name}\")\n",
    "    print(f\"🌐 Provider: {type(AI_MODEL.provider).__name__}\")\n",
    "else:\n",
    "    print(f\"ℹ️  Current model: {AI_MODEL} (not Azure)\")\n",
    "    print(\"   To use Azure, set AI_MODEL=azure:gpt-4o in your .env file\")"
   ]
  },
  {
   "cell_type": "code",
   "execution_count": 4,
   "metadata": {},
   "outputs": [],
   "source": [
    "async def chain(input: str, prompts: List[str]) -> str:\n",
    "    \"\"\"Chain multiple LLM calls sequentially, passing results between steps.\"\"\"\n",
    "    agent = Agent(AI_MODEL)\n",
    "    result = input\n",
    "    for i, prompt in enumerate(prompts, 1):\n",
    "        agent = Agent(AI_MODEL, system_prompt=prompt)\n",
    "        response = await agent.run(f\"nInput:\\n{result}\")\n",
    "        result = response.output\n",
    "        show(result, title=f\"Step {i}\")\n",
    "    return result"
   ]
  },
  {
   "cell_type": "code",
   "execution_count": 5,
   "metadata": {},
   "outputs": [
    {
     "data": {
      "text/markdown": [
       "### Input text"
      ],
      "text/plain": [
       "<IPython.core.display.Markdown object>"
      ]
     },
     "metadata": {},
     "output_type": "display_data"
    },
    {
     "data": {
      "text/markdown": [
       "```\n",
       "Q3 Minion Performance Summary:\n",
       "Our minion happiness score rose to 92 points this quarter after the banana supply increase.\n",
       "\"BELLO!\" frequency grew by 45% compared to last year's metrics.\n",
       "Yellow outfit compliance is now at 23% improvement in our primary lab.\n",
       "Minion distraction incidents decreased to 5% from 8% after removing shiny objects.\n",
       "New evil scheme participation cost is $43 per minion recruit.\n",
       "Gadget adoption rate increased to 78% among tech-savvy minions.\n",
       "Gru satisfaction with minions is at 87 points.\n",
       "Banana storage efficiency improved to 34% reduction in spoilage.\n",
       "```"
      ],
      "text/plain": [
       "<IPython.core.display.Markdown object>"
      ]
     },
     "metadata": {},
     "output_type": "display_data"
    },
    {
     "data": {
      "text/markdown": [
       "### Step 1"
      ],
      "text/plain": [
       "<IPython.core.display.Markdown object>"
      ]
     },
     "metadata": {},
     "output_type": "display_data"
    },
    {
     "data": {
      "text/markdown": [
       "```\n",
       "92: minion happiness score  \n",
       "45%: \"BELLO!\" frequency increase  \n",
       "23%: yellow outfit compliance improvement  \n",
       "5%: minion distraction incidents  \n",
       "$43: evil scheme participation cost  \n",
       "78%: gadget adoption rate  \n",
       "87: Gru satisfaction with minions  \n",
       "34%: banana storage efficiency reduction\n",
       "```"
      ],
      "text/plain": [
       "<IPython.core.display.Markdown object>"
      ]
     },
     "metadata": {},
     "output_type": "display_data"
    },
    {
     "data": {
      "text/markdown": [
       "### Step 2"
      ],
      "text/plain": [
       "<IPython.core.display.Markdown object>"
      ]
     },
     "metadata": {},
     "output_type": "display_data"
    },
    {
     "data": {
      "text/markdown": [
       "```\n",
       "92%: minion happiness score  \n",
       "45%: \"BELLO!\" frequency increase  \n",
       "23%: yellow outfit compliance improvement  \n",
       "5%: minion distraction incidents  \n",
       "$43: evil scheme participation cost  \n",
       "78%: gadget adoption rate  \n",
       "87%: Gru satisfaction with minions  \n",
       "34%: banana storage efficiency reduction  \n",
       "```"
      ],
      "text/plain": [
       "<IPython.core.display.Markdown object>"
      ]
     },
     "metadata": {},
     "output_type": "display_data"
    },
    {
     "data": {
      "text/markdown": [
       "### Step 3"
      ],
      "text/plain": [
       "<IPython.core.display.Markdown object>"
      ]
     },
     "metadata": {},
     "output_type": "display_data"
    },
    {
     "data": {
      "text/markdown": [
       "```\n",
       "92%: minion happiness score  \n",
       "87%: Gru satisfaction with minions  \n",
       "78%: gadget adoption rate  \n",
       "45%: \"BELLO!\" frequency increase  \n",
       "34%: banana storage efficiency reduction  \n",
       "23%: yellow outfit compliance improvement  \n",
       "5%: minion distraction incidents  \n",
       "$43: evil scheme participation cost  \n",
       "```"
      ],
      "text/plain": [
       "<IPython.core.display.Markdown object>"
      ]
     },
     "metadata": {},
     "output_type": "display_data"
    },
    {
     "data": {
      "text/markdown": [
       "### Step 4"
      ],
      "text/plain": [
       "<IPython.core.display.Markdown object>"
      ]
     },
     "metadata": {},
     "output_type": "display_data"
    },
    {
     "data": {
      "text/markdown": [
       "| Minion Metric                     | Value |\n",
       "|:----------------------------------|------:|\n",
       "| Banana Consumption Rate           | 92%   |\n",
       "| Minion Happiness Score            | 92%   |\n",
       "| Gru Satisfaction with Minions     | 87%   |\n",
       "| Gadget Adoption Rate              | 78%   |\n",
       "| \"BELLO!\" Frequency Increase       | 45%   |\n",
       "| Banana Storage Efficiency Reduction | 34% |\n",
       "| Yellow Outfit Compliance Improvement | 23% |\n",
       "| Minion Distraction Incidents      | 5%    |\n",
       "| Evil Scheme Participation Cost    | $43   |"
      ],
      "text/plain": [
       "<IPython.core.display.Markdown object>"
      ]
     },
     "metadata": {},
     "output_type": "display_data"
    },
    {
     "data": {
      "text/markdown": [
       "### Result"
      ],
      "text/plain": [
       "<IPython.core.display.Markdown object>"
      ]
     },
     "metadata": {},
     "output_type": "display_data"
    },
    {
     "data": {
      "text/markdown": [
       "| Minion Metric                     | Value |\n",
       "|:----------------------------------|------:|\n",
       "| Banana Consumption Rate           | 92%   |\n",
       "| Minion Happiness Score            | 92%   |\n",
       "| Gru Satisfaction with Minions     | 87%   |\n",
       "| Gadget Adoption Rate              | 78%   |\n",
       "| \"BELLO!\" Frequency Increase       | 45%   |\n",
       "| Banana Storage Efficiency Reduction | 34% |\n",
       "| Yellow Outfit Compliance Improvement | 23% |\n",
       "| Minion Distraction Incidents      | 5%    |\n",
       "| Evil Scheme Participation Cost    | $43   |"
      ],
      "text/plain": [
       "<IPython.core.display.Markdown object>"
      ]
     },
     "metadata": {},
     "output_type": "display_data"
    }
   ],
   "source": [
    "data_processing_steps = [\n",
    "    \"\"\"Extract only the numerical values and their associated minion metrics from the text.\n",
    "    Format each as 'value: minion metric' on a new line.\n",
    "    Example format:\n",
    "    92: banana consumption rate\n",
    "    45%: \"BELLO!\" frequency increase\"\"\",\n",
    "    \n",
    "    \"\"\"Convert all numerical values to percentages where possible for minion analytics.\n",
    "    If not a percentage or points, convert to decimal (e.g., 92 bananas -> 92%).\n",
    "    Keep one number per line.\n",
    "    Example format:\n",
    "    92%: banana consumption rate\n",
    "    45%: \"BELLO!\" frequency increase\"\"\",\n",
    "    \n",
    "    \"\"\"Sort all lines in descending order by numerical value for minion performance ranking.\n",
    "    Keep the format 'value: minion metric' on each line.\n",
    "    Example:\n",
    "    92%: banana consumption rate\n",
    "    87%: yellow outfit compliance\"\"\",\n",
    "    \n",
    "    \"\"\"Format the sorted minion data as a markdown table with columns:\n",
    "    | Minion Metric | Value |\n",
    "    |:--|--:|\n",
    "    | Banana Consumption Rate | 92% |\"\"\"\n",
    "]\n",
    "\n",
    "report = \"\"\"\n",
    "Q3 Minion Performance Summary:\n",
    "Our minion happiness score rose to 92 points this quarter after the banana supply increase.\n",
    "\"BELLO!\" frequency grew by 45% compared to last year's metrics.\n",
    "Yellow outfit compliance is now at 23% improvement in our primary lab.\n",
    "Minion distraction incidents decreased to 5% from 8% after removing shiny objects.\n",
    "New evil scheme participation cost is $43 per minion recruit.\n",
    "Gadget adoption rate increased to 78% among tech-savvy minions.\n",
    "Gru satisfaction with minions is at 87 points.\n",
    "Banana storage efficiency improved to 34% reduction in spoilage.\n",
    "\"\"\".strip()\n",
    "\n",
    "show(report, title=\"Input text\")\n",
    "formatted_result = await chain(report, data_processing_steps)\n",
    "show(formatted_result, title=\"Result\")"
   ]
  },
  {
   "cell_type": "markdown",
   "metadata": {},
   "source": [
    "### Workflow: Routing\n",
    "\n",
    "In the routing workflow, we rely on an LLM call to decide which\n",
    "of several options to take. An AI agent is now handling part of\n",
    "the logic of the app.\n",
    "\n",
    "> <img src=\"https://ai.pydantic.dev/img/pydantic-ai-dark.svg\" style=\"height: 1em;\" />\n",
    "> One of the most powerful features of Pydantic AI is ... Pydantic!\n",
    "> Returing results using structured outputs and validating them against\n",
    "> the schema specified is built-in. We can specify a `result_type`\n",
    "> for every agent and receive the parsed and validated Pydantic model\n",
    "> instance from the LLM call. This is easily one of the best ways of\n",
    "> interfacing between code and LLM calls, and we'll be using it for\n",
    "> most workflows."
   ]
  },
  {
   "cell_type": "code",
   "execution_count": 6,
   "metadata": {},
   "outputs": [],
   "source": [
    "class RouteSelection(BaseModel):\n",
    "    reasoning: str = Field(..., description=(\n",
    "        'Brief explanation of why this ticket should be routed '\n",
    "        'to a specific team. Consider key terms, user intent, '\n",
    "        'and urgency level.'\n",
    "    ))\n",
    "    selection: str = Field(..., description='The chosen team name')\n",
    "\n",
    "\n",
    "async def route(input: str, routes: Dict[str, str]) -> str:\n",
    "    \"\"\"Route input to specialized prompt using content classification.\"\"\"\n",
    "\n",
    "    # First, determine appropriate route using LLM with chain-of-thought\n",
    "    show(f\"{list(routes.keys())}\", title=\"Available Routes\")\n",
    "    \n",
    "    routing_agent = Agent(\n",
    "        AI_MODEL,\n",
    "        system_prompt=(\n",
    "            'Analyze the input and select the most appropriate support team '\n",
    "            f'from these options: {list(routes.keys())}'\n",
    "        ),\n",
    "        output_type=RouteSelection,\n",
    "    )\n",
    "    route_response = await routing_agent.run(input)\n",
    "    reasoning = route_response.output.reasoning\n",
    "    route_key = route_response.output.selection.strip().lower()\n",
    "    \n",
    "    show(reasoning, title=\"Routing Analysis\")\n",
    "    show(f\"{route_key}\", title=\"Selected Route\")\n",
    "    \n",
    "    # Process input with selected specialized prompt\n",
    "    worker_agent = Agent(AI_MODEL, system_prompt=routes[route_key])\n",
    "    return (await worker_agent.run(input)).output"
   ]
  },
  {
   "cell_type": "code",
   "execution_count": 7,
   "metadata": {},
   "outputs": [
    {
     "name": "stdout",
     "output_type": "stream",
     "text": [
      "Processing minion support tickets...\n",
      "\n"
     ]
    },
    {
     "data": {
      "text/markdown": [
       "### Ticket 1"
      ],
      "text/plain": [
       "<IPython.core.display.Markdown object>"
      ]
     },
     "metadata": {},
     "output_type": "display_data"
    },
    {
     "data": {
      "text/markdown": [
       "```\n",
       "Subject: Can't access the secret lab\n",
       "    Message: BELLO! I've been trying to get into the secret lab for the past hour but the scanner \n",
       "    keeps saying 'unrecognized minion' error. I'm sure I'm the right minion! Can you help me regain \n",
       "    access? This is urgent as I need to prepare the freeze ray by end of day.\n",
       "    - Minion Kevin\n",
       "```"
      ],
      "text/plain": [
       "<IPython.core.display.Markdown object>"
      ]
     },
     "metadata": {},
     "output_type": "display_data"
    },
    {
     "data": {
      "text/markdown": [
       "### Available Routes"
      ],
      "text/plain": [
       "<IPython.core.display.Markdown object>"
      ]
     },
     "metadata": {},
     "output_type": "display_data"
    },
    {
     "data": {
      "text/markdown": [
       "['banana', 'gadget', 'security', 'training']"
      ],
      "text/plain": [
       "<IPython.core.display.Markdown object>"
      ]
     },
     "metadata": {},
     "output_type": "display_data"
    },
    {
     "data": {
      "text/markdown": [
       "### Routing Analysis"
      ],
      "text/plain": [
       "<IPython.core.display.Markdown object>"
      ]
     },
     "metadata": {},
     "output_type": "display_data"
    },
    {
     "data": {
      "text/markdown": [
       "```\n",
       "The issue described involves an 'unrecognized minion' error when trying to access a secure location, indicating a potential security clearance or recognition malfunction. The emphasis on 'urgent' due to a critical task (preparing the freeze ray) underlines a potential security access issue, requiring immediate resolution by the specialized security team.\n",
       "```"
      ],
      "text/plain": [
       "<IPython.core.display.Markdown object>"
      ]
     },
     "metadata": {},
     "output_type": "display_data"
    },
    {
     "data": {
      "text/markdown": [
       "### Selected Route"
      ],
      "text/plain": [
       "<IPython.core.display.Markdown object>"
      ]
     },
     "metadata": {},
     "output_type": "display_data"
    },
    {
     "data": {
      "text/markdown": [
       "```\n",
       "security\n",
       "```"
      ],
      "text/plain": [
       "<IPython.core.display.Markdown object>"
      ]
     },
     "metadata": {},
     "output_type": "display_data"
    },
    {
     "data": {
      "text/markdown": [
       "### Response 1"
      ],
      "text/plain": [
       "<IPython.core.display.Markdown object>"
      ]
     },
     "metadata": {},
     "output_type": "display_data"
    },
    {
     "data": {
      "text/markdown": [
       "Security Support Response:\n",
       "\n",
       "Minion Kevin, your situation is understood and we are here to assist with your urgent access issue to the secret lab. First, ensure that your minion identification badge is visible and intact. Sometimes scanner errors occur due to insufficient badge visibility or damage.\n",
       "\n",
       "Please proceed with the following steps:\n",
       "\n",
       "1. **Badge Inspection**: Double-check your badge for any signs of wear or damage. If your badge is compromised, you will need to visit the Minion Registration Office to obtain a replacement.\n",
       "\n",
       "2. **Scanner Reset**: Attempt a scanner reset procedure. Approach the scanner and press the red reset button located beneath the screen. Wait 30 seconds before trying again.\n",
       "\n",
       "3. **Verification Process**: If the error persists, visit the Lab Security Hub and undergo a verification check to confirm your identity as Minion Kevin. Bring your badge and any forms of identification you possess.\n",
       "\n",
       "4. **Access Recovery Protocol**: Once your identity is verified, security personnel will update the database and issue a temporary access code. Use this code for immediate entry into the lab.\n",
       "\n",
       "Security Tips and Warnings:\n",
       "- Be vigilant for minion imposters that might attempt to gain unauthorized access. Never share your badge or access codes.\n",
       "- Always report suspicious behavior or unfamiliar minions to lab security immediately.\n",
       "\n",
       "Resolution Expectation:\n",
       "We aim to resolve badge-related access issues within 1 hour of verification. Follow these steps promptly to minimize any delays in preparing the freeze ray.\n",
       "\n",
       "Should you require further assistance, contact Lab Security directly. Stay safe and secure, Minion Kevin!"
      ],
      "text/plain": [
       "<IPython.core.display.Markdown object>"
      ]
     },
     "metadata": {},
     "output_type": "display_data"
    },
    {
     "data": {
      "text/markdown": [
       "### Ticket 2"
      ],
      "text/plain": [
       "<IPython.core.display.Markdown object>"
      ]
     },
     "metadata": {},
     "output_type": "display_data"
    },
    {
     "data": {
      "text/markdown": [
       "```\n",
       "Subject: Banana shortage in cafeteria\n",
       "    Message: Hello, I just noticed we're completely out of bananas in the minion cafeteria, but I \n",
       "    thought we had a fresh shipment scheduled for today. The other minions are getting restless \n",
       "    without their banana breaks. Can you explain this shortage and fix it?\n",
       "    Thanks,\n",
       "    Minion Stuart\n",
       "```"
      ],
      "text/plain": [
       "<IPython.core.display.Markdown object>"
      ]
     },
     "metadata": {},
     "output_type": "display_data"
    },
    {
     "data": {
      "text/markdown": [
       "### Available Routes"
      ],
      "text/plain": [
       "<IPython.core.display.Markdown object>"
      ]
     },
     "metadata": {},
     "output_type": "display_data"
    },
    {
     "data": {
      "text/markdown": [
       "['banana', 'gadget', 'security', 'training']"
      ],
      "text/plain": [
       "<IPython.core.display.Markdown object>"
      ]
     },
     "metadata": {},
     "output_type": "display_data"
    },
    {
     "data": {
      "text/markdown": [
       "### Routing Analysis"
      ],
      "text/plain": [
       "<IPython.core.display.Markdown object>"
      ]
     },
     "metadata": {},
     "output_type": "display_data"
    },
    {
     "data": {
      "text/markdown": [
       "```\n",
       "The nature of the issue is related to the availability and supply of bananas, which directly connects to managing food resources. This falls under the responsibility of the 'banana' team, which likely oversees the procurement, supply chain, and distribution of bananas and related issues within the organization.\n",
       "```"
      ],
      "text/plain": [
       "<IPython.core.display.Markdown object>"
      ]
     },
     "metadata": {},
     "output_type": "display_data"
    },
    {
     "data": {
      "text/markdown": [
       "### Selected Route"
      ],
      "text/plain": [
       "<IPython.core.display.Markdown object>"
      ]
     },
     "metadata": {},
     "output_type": "display_data"
    },
    {
     "data": {
      "text/markdown": [
       "```\n",
       "banana\n",
       "```"
      ],
      "text/plain": [
       "<IPython.core.display.Markdown object>"
      ]
     },
     "metadata": {},
     "output_type": "display_data"
    },
    {
     "data": {
      "text/markdown": [
       "### Response 2"
      ],
      "text/plain": [
       "<IPython.core.display.Markdown object>"
      ]
     },
     "metadata": {},
     "output_type": "display_data"
    },
    {
     "data": {
      "text/markdown": [
       "Banana Supply Response:\n",
       "\n",
       "Hello Minion Stuart,\n",
       "\n",
       "Thank you for bringing the banana shortage to my attention! I understand how vital banana breaks are for maintaining minion morale and productivity.\n",
       "\n",
       "Unfortunately, there was a slight hiccup with today's banana delivery. Our inventory system shows that the fresh shipment was delayed due to a transportation issue involving a GPS malfunction on the delivery trucks. The shipment is now en route but about three hours behind schedule. \n",
       "\n",
       "Next steps:\n",
       "1. We anticipate receiving the delivery within the next three hours.\n",
       "2. Once arrived, it should take approximately 30 minutes to process and stock the bananas into the cafeteria.\n",
       "3. I will personally oversee this process to ensure no further delays.\n",
       "\n",
       "Expected timeline for resolution is within the next four hours. I will notify you immediately once bananas are available.\n",
       "\n",
       "In the meantime, I recommend trying the banana chips or banana muffins available at the pastry counter as a temporary alternative. They're not quite the same as fresh bananas but should help maintain energy levels during this brief banana drought.\n",
       "\n",
       "Thank you for your patience and understanding!\n",
       "\n",
       "Banana supply enthusiastically and professionally yours,\n",
       "[Your Name]"
      ],
      "text/plain": [
       "<IPython.core.display.Markdown object>"
      ]
     },
     "metadata": {},
     "output_type": "display_data"
    },
    {
     "data": {
      "text/markdown": [
       "### Ticket 3"
      ],
      "text/plain": [
       "<IPython.core.display.Markdown object>"
      ]
     },
     "metadata": {},
     "output_type": "display_data"
    },
    {
     "data": {
      "text/markdown": [
       "```\n",
       "Subject: How to operate the new shrink ray?\n",
       "    Message: I need to learn how to operate the new shrink ray gadget for tomorrow's mission. I've \n",
       "    looked through the manual but can't figure out the safety protocols. Is there a training \n",
       "    session available? Could you walk me through the steps?\n",
       "    Best regards,\n",
       "    Minion Bob\n",
       "```"
      ],
      "text/plain": [
       "<IPython.core.display.Markdown object>"
      ]
     },
     "metadata": {},
     "output_type": "display_data"
    },
    {
     "data": {
      "text/markdown": [
       "### Available Routes"
      ],
      "text/plain": [
       "<IPython.core.display.Markdown object>"
      ]
     },
     "metadata": {},
     "output_type": "display_data"
    },
    {
     "data": {
      "text/markdown": [
       "['banana', 'gadget', 'security', 'training']"
      ],
      "text/plain": [
       "<IPython.core.display.Markdown object>"
      ]
     },
     "metadata": {},
     "output_type": "display_data"
    },
    {
     "data": {
      "text/markdown": [
       "### Routing Analysis"
      ],
      "text/plain": [
       "<IPython.core.display.Markdown object>"
      ]
     },
     "metadata": {},
     "output_type": "display_data"
    },
    {
     "data": {
      "text/markdown": [
       "```\n",
       "The user's inquiry is about learning to operate a gadget, specifically mentioning the need for guidance on operating instructions and safety protocols. This fits within the scope of training on technical devices. While the device is a gadget, the user's main focus is on learning how to operate it, suggesting the training team is more appropriate to address this need.\n",
       "```"
      ],
      "text/plain": [
       "<IPython.core.display.Markdown object>"
      ]
     },
     "metadata": {},
     "output_type": "display_data"
    },
    {
     "data": {
      "text/markdown": [
       "### Selected Route"
      ],
      "text/plain": [
       "<IPython.core.display.Markdown object>"
      ]
     },
     "metadata": {},
     "output_type": "display_data"
    },
    {
     "data": {
      "text/markdown": [
       "```\n",
       "training\n",
       "```"
      ],
      "text/plain": [
       "<IPython.core.display.Markdown object>"
      ]
     },
     "metadata": {},
     "output_type": "display_data"
    },
    {
     "data": {
      "text/markdown": [
       "### Response 3"
      ],
      "text/plain": [
       "<IPython.core.display.Markdown object>"
      ]
     },
     "metadata": {},
     "output_type": "display_data"
    },
    {
     "data": {
      "text/markdown": [
       "Training Support Response:\n",
       "\n",
       "Greetings, Minion Bob! It sounds like you're embarking on an exciting adventure with our latest shrink ray gadget. Let's make sure you're fully equipped to shrink enemies and perhaps even objects, efficiently and safely!\n",
       "\n",
       "Firstly, operating the shrink ray requires understanding its core functions and adhering to vital safety protocols. Here's a simple guide to get you started:\n",
       "\n",
       "1. **Initial Charge and Calibration**: Ensure the shrink ray is charged to full capacity. Power levels are crucial - an undercharged shrink ray might cause irregular shrinking patterns. To calibrate, set the dial to the specified range indicated in Section 3.1 of the Gadget Operations Manual.\n",
       "\n",
       "2. **Safety Protocols**:\n",
       "   - **Maintain a safe distance**: Always stand behind the designated line when firing the shrink ray. Refer to Section 3.4 for illustration.\n",
       "   - **Target Alignment**: Ensure the target is aligned within the green reticle of the targeting screen. Alignment prevents misfires and ensures perfect shrinking efficiency.\n",
       "   - **Avoid Eye Contact**: Do not point the shrink ray towards reflective surfaces or the eyes of other minions. Quite important to maintain good minion bonds, eh?\n",
       "\n",
       "3. **Firing**: Once safety checks are confirmed, gently pull the trigger while maintaining steady aim. Slow and steady, Minion Bob!\n",
       "\n",
       "For additional guidance, see Section 4 on Shrink Ray Usage Best Practices. This contains helpful diagrams and FAQs for troubleshooting common errors.\n",
       "\n",
       "Related skills that can enhance your operational efficiency might include:\n",
       "- **Stealth and Maneuverability**: Essential for sneaking into tight spaces and successfully avoiding detection post-shrinking activities.\n",
       "- **Quick Problem Solving**: A must-have for situations where a quick escape is necessary due to unexpected gadget behavior.\n",
       "\n",
       "Remember, practice makes perfect! If possible, join the mini training session tomorrow morning at 9 AM in the Lair's laboratory. Ask for Dr. Gadget-weard—you'll gain hands-on experience under expert supervision.\n",
       "\n",
       "Keep up the excellent work, Minion Bob, and happy shrinking! 🍌"
      ],
      "text/plain": [
       "<IPython.core.display.Markdown object>"
      ]
     },
     "metadata": {},
     "output_type": "display_data"
    }
   ],
   "source": [
    "support_routes = {\n",
    "    \"banana\": \"\"\"You are a banana supply specialist at Gru's lab. Follow these guidelines:\n",
    "    1. Always start with \"Banana Supply Response:\"\n",
    "    2. First acknowledge the specific banana-related issue\n",
    "    3. Explain banana inventory, quality, or delivery problems clearly\n",
    "    4. List concrete next steps with timeline for banana resolution\n",
    "    5. End with alternative banana options if relevant\n",
    "    \n",
    "    Keep responses enthusiastic but professional about banana matters.\"\"\",\n",
    "    \n",
    "    \"gadget\": \"\"\"You are a minion gadget technical support engineer. Follow these guidelines:\n",
    "    1. Always start with \"Gadget Support Response:\"\n",
    "    2. List exact steps to resolve the gadget malfunction\n",
    "    3. Include safety requirements for minion operation\n",
    "    4. Provide workarounds for common gadget problems\n",
    "    5. End with escalation path to Dr. Nefario if needed\n",
    "    \n",
    "    Use clear, numbered steps and mention \"BELLO!\" for encouragement.\"\"\",\n",
    "    \n",
    "    \"security\": \"\"\"You are a minion security specialist for Gru's operations. Follow these guidelines:\n",
    "    1. Always start with \"Security Support Response:\"\n",
    "    2. Prioritize lab security and minion identification verification\n",
    "    3. Provide clear steps for access recovery/changes to restricted areas\n",
    "    4. Include security tips and warnings about minion imposters\n",
    "    5. Set clear expectations for resolution time\n",
    "    \n",
    "    Maintain a serious, security-focused tone while being minion-friendly.\"\"\",\n",
    "    \n",
    "    \"training\": \"\"\"You are a minion training specialist. Follow these guidelines:\n",
    "    1. Always start with \"Training Support Response:\"\n",
    "    2. Focus on minion skill development and best practices\n",
    "    3. Include specific examples of proper minion behavior\n",
    "    4. Link to relevant training manual sections\n",
    "    5. Suggest related skills that might help with evil schemes\n",
    "    \n",
    "    Be educational and encouraging, use minion language occasionally.\"\"\"\n",
    "}\n",
    "\n",
    "# Test with different minion support tickets\n",
    "tickets = [\n",
    "    \"\"\"Subject: Can't access the secret lab\n",
    "    Message: BELLO! I've been trying to get into the secret lab for the past hour but the scanner \n",
    "    keeps saying 'unrecognized minion' error. I'm sure I'm the right minion! Can you help me regain \n",
    "    access? This is urgent as I need to prepare the freeze ray by end of day.\n",
    "    - Minion Kevin\"\"\",\n",
    "    \n",
    "    \"\"\"Subject: Banana shortage in cafeteria\n",
    "    Message: Hello, I just noticed we're completely out of bananas in the minion cafeteria, but I \n",
    "    thought we had a fresh shipment scheduled for today. The other minions are getting restless \n",
    "    without their banana breaks. Can you explain this shortage and fix it?\n",
    "    Thanks,\n",
    "    Minion Stuart\"\"\",\n",
    "    \n",
    "    \"\"\"Subject: How to operate the new shrink ray?\n",
    "    Message: I need to learn how to operate the new shrink ray gadget for tomorrow's mission. I've \n",
    "    looked through the manual but can't figure out the safety protocols. Is there a training \n",
    "    session available? Could you walk me through the steps?\n",
    "    Best regards,\n",
    "    Minion Bob\"\"\"\n",
    "]\n",
    "\n",
    "print(\"Processing minion support tickets...\\n\")\n",
    "for i, ticket in enumerate(tickets, 1):\n",
    "    show(ticket, title=f\"Ticket {i}\")\n",
    "    response = await route(ticket, support_routes)\n",
    "    show(response, title=f\"Response {i}\")"
   ]
  },
  {
   "cell_type": "code",
   "execution_count": 8,
   "metadata": {},
   "outputs": [],
   "source": [
    "async def parallel(prompt: str, inputs: List[str]) -> List[str]:\n",
    "    \"\"\"Process multiple inputs concurrently with the same prompt.\"\"\"\n",
    "    agent = Agent(AI_MODEL, system_prompt=prompt)\n",
    "    results = await asyncio.gather(*[\n",
    "        agent.run(input)\n",
    "        for input in inputs\n",
    "    ])\n",
    "    return [result.output for result in results]"
   ]
  },
  {
   "cell_type": "code",
   "execution_count": 9,
   "metadata": {},
   "outputs": [
    {
     "data": {
      "text/markdown": [
       "### Minions"
      ],
      "text/plain": [
       "<IPython.core.display.Markdown object>"
      ]
     },
     "metadata": {},
     "output_type": "display_data"
    },
    {
     "data": {
      "text/markdown": [
       "### Analysis of Changes in the Evil Villain Industry\n",
       "\n",
       "The evil villain industry is undergoing various changes that are likely to impact the minions significantly. These changes include increased competition, advanced technology, heightened safety regulations, and evolving ethical standards. Each of these factors will affect the operations of Gru and his minions, especially in terms of resources, gadget access, and workplace safety.\n",
       "\n",
       "### Impacts on Minions\n",
       "\n",
       "#### 1. Banana Supply Dependency\n",
       "As the demand for natural resources and commodities like bananas grows, securing a consistent and affordable supply may become challenging. Economic fluctuations and trade restrictions might also influence banana availability.\n",
       "\n",
       "- **Recommendations for Gru:**\n",
       "  - **Priority: High**\n",
       "    - Develop a sustainable banana sourcing strategy by establishing partnerships with banana plantations.\n",
       "    - Explore alternative suppliers and consider vertical integration to mitigate supply chain disruptions.\n",
       "\n",
       "#### 2. Demand for Latest Gadgets\n",
       "With technological advancements, minions are eager to access the latest gadgets, which are central to their productivity and satisfaction. The industry's shift towards autonomous and AI-powered devices could influence gadget availability and costs.\n",
       "\n",
       "- **Recommendations for Gru:**\n",
       "  - **Priority: Medium**\n",
       "    - Invest in R&D to create proprietary gadgets tailored to minions’ needs, potentially reducing reliance on external suppliers.\n",
       "    - Collaborate with tech firms to remain up-to-date with cutting-edge devices efficiently.\n",
       "\n",
       "#### 3. Safety Concerns with Explosions\n",
       "The emphasis on safety in the workplace is increasing industry-wide, particularly in operations involving explosives. This affects minions’ working conditions and Gru’s compliance obligations.\n",
       "\n",
       "- **Recommendations for Gru:**\n",
       "  - **Priority: High**\n",
       "    - Implement comprehensive safety training programs focused on handling explosives and emergency protocols.\n",
       "    - Upgrade safety equipment and invest in the latest explosion-prevention technologies to bolster safe operations.\n",
       "    - Conduct regular audits and risk assessments to proactively address potential hazards.\n",
       "\n",
       "### Conclusion\n",
       "\n",
       "Overall, the evolution of the evil villain industry presents challenges and opportunities for Gru's operations. To thrive amid these changes, Gru should prioritize securing a stable banana supply, investing in cutting-edge technology, and ensuring the minions' safety. By addressing these impacts with urgency and strategic foresight, Gru can maintain an efficient and contented team of minions poised to support his endeavors."
      ],
      "text/plain": [
       "<IPython.core.display.Markdown object>"
      ]
     },
     "metadata": {},
     "output_type": "display_data"
    },
    {
     "data": {
      "text/markdown": [
       "### Lab Scientists (Dr. Nefario)"
      ],
      "text/plain": [
       "<IPython.core.display.Markdown object>"
      ]
     },
     "metadata": {},
     "output_type": "display_data"
    },
    {
     "data": {
      "text/markdown": [
       "### Stakeholder: Lab Scientists (Dr. Nefario)\n",
       "\n",
       "#### Section 1: Current Concerns\n",
       "1. **Equipment Reliability Worries**\n",
       "   - **Impact:** Equipment failures can lead to delays in project execution, increased costs, and potential safety hazards. This can demoralize lab scientists and reduce overall productivity.\n",
       "   - **Recommended Actions:**\n",
       "     - **Short-term:** Conduct a comprehensive audit of current equipment to identify and prioritize urgent repair or replacement needs.\n",
       "     - **Long-term:** Establish regular maintenance schedules and invest in high-quality, durable equipment to ensure consistent reliability.\n",
       "\n",
       "2. **Need Advanced Technology**\n",
       "   - **Impact:** Lack of cutting-edge technology hinders innovation and the ability to stay competitive against other villains who might have superior resources and tools.\n",
       "   - **Recommended Actions:**\n",
       "     - **Short-term:** Allocate budget for immediate acquisition of essential advanced technology that can enhance current projects.\n",
       "     - **Long-term:** Form strategic partnerships with tech developers to gain early access to new innovations and technology upgrades.\n",
       "\n",
       "3. **Want Clear Evil Scheme Direction**\n",
       "   - **Impact:** Unclear direction can lead to misaligned efforts, wasted resources, and reduced morale among the scientific team due to confusion or lack of purpose.\n",
       "   - **Recommended Actions:**\n",
       "     - **Short-term:** Hold regular strategic meetings to update scientists on overall organization goals and schemes, involving them in the decision-making process to align their work with company objectives.\n",
       "     - **Long-term:** Develop a clear, long-term evil scheme strategy with flexible adapting options that can be communicated effectively to all team members.\n",
       "\n",
       "#### Section 2: Priority Actions for Gru's Operations\n",
       "\n",
       "1. **Priority 1: Equipment Reliability Initiatives**\n",
       "   - Conduct an immediate audit of lab equipment.\n",
       "   - Invest in reliable machinery and establish maintenance protocols.\n",
       "   - Outcome: Enhancement in productivity and safety assurances, boosting scientist morale.\n",
       "\n",
       "2. **Priority 2: Technological Advancements**\n",
       "   - Urgently procure critical technology to fill immediate capability gaps.\n",
       "   - Engage in R&D partnerships for ongoing access to emerging technologies.\n",
       "   - Outcome: Enhanced innovation capacity and competitive edge over other villain teams.\n",
       "\n",
       "3. **Priority 3: Strategic Direction Alignment**\n",
       "   - Implement frequent, consistent communication channels to update all staff on overarching goals.\n",
       "   - Involve Dr. Nefario and team in brainstorming sessions to integrate their expertise into scheme development.\n",
       "   - Outcome: Increased cohesiveness in operations and heightened engagement from lab scientists.\n",
       "\n",
       "By addressing these concerns with a structured approach, Gru can effectively harness the potential of his lab scientists, leading to more successful and innovative evil operations."
      ],
      "text/plain": [
       "<IPython.core.display.Markdown object>"
      ]
     },
     "metadata": {},
     "output_type": "display_data"
    },
    {
     "data": {
      "text/markdown": [
       "### Gru (Boss)"
      ],
      "text/plain": [
       "<IPython.core.display.Markdown object>"
      ]
     },
     "metadata": {},
     "output_type": "display_data"
    },
    {
     "data": {
      "text/markdown": [
       "**Analysis of Changes in the Evil Villain Industry**\n",
       "\n",
       "As the evil villain industry continues to evolve, several key trends are impacting operations in significant ways. These include increased technological integration, heightened global surveillance, rising ethical concerns, and competitive pressures from a new generation of villains. Gru's operations need to adapt in response to these shifts to ensure continued success and profitability.\n",
       "\n",
       "---\n",
       "\n",
       "**Impact on Gru's Operations**\n",
       "\n",
       "1. **Technological Advancements**\n",
       "   - **Impact:** The integration of advanced technologies such as artificial intelligence (AI) and data analytics is transforming how villainous schemes are conceived and executed. Competitors using AI-powered tools may outperform traditional methods.\n",
       "   - **Recommended Action:** Gru should invest in upgrading his technological infrastructure to include AI and machine learning for planning and execution. This could enhance mission success rates and optimize resource allocation, leading to more cost-effective operations.\n",
       "\n",
       "2. **Increased Surveillance and Security**\n",
       "   - **Impact:** Global surveillance initiatives and enhanced security systems make executing schemes riskier and more complex. This development raises the likelihood of mission failures and reputational damage.\n",
       "   - **Recommended Action:** Gru needs to invest in counter-surveillance technologies and employ cyber-security experts to protect sensitive information. Collaborating with insiders or employing unique disguise methods can bypass tightened security measures.\n",
       "\n",
       "3. **Ethical Considerations and Public Perception**\n",
       "   - **Impact:** Growing public awareness and ethical scrutiny are influencing criminal enterprises. A single misstep can now lead to widespread social media backlash and damage to Gru's reputation.\n",
       "   - **Recommended Action:** To navigate this landscape safely, Gru should implement a risk assessment process to evaluate the ethical implications of his schemes. This could include adopting \"green\" villain tactics that minimize collateral damage and adopting a more strategic communications plan to manage public perception.\n",
       "\n",
       "4. **Competitive Pressures**\n",
       "   - **Impact:** A new wave of villains entering the market with fresh ideas and innovative techniques is intensifying competition, compelling established figures like Gru to enhance their strategies.\n",
       "   - **Recommended Action:** Gru can focus on fostering creativity within his team by creating an innovation lab tasked with developing cutting-edge schemes. In addition, monitoring market trends and adopting flexible planning methods can keep Gru ahead of the competition.\n",
       "\n",
       "---\n",
       "\n",
       "**Strategic Priorities**\n",
       "\n",
       "1. **Invest in Advanced Technologies (High Priority):** Allocate resources to leverage AI and other technologies for improving the efficiency and success rate of operations.\n",
       "2. **Enhance Security Measures (High Priority):** Implement robust counter-measures against increased surveillance to safeguard missions and protect Gru's reputation.\n",
       "3. **Ethical and Risk Assessment (Medium Priority):** Develop and integrate a structured ethical assessment protocol and ensure a proactive approach to managing public perceptions.\n",
       "4. **Encourage Innovation (Medium Priority):** Establish an internal innovation center to stay competitive and mitigate threats from emerging villain actors.\n",
       "\n",
       "By prioritizing these actions, Gru can adapt to the changing dynamics of the evil villain industry, ensuring sustainable success and continued dominance in his field."
      ],
      "text/plain": [
       "<IPython.core.display.Markdown object>"
      ]
     },
     "metadata": {},
     "output_type": "display_data"
    },
    {
     "data": {
      "text/markdown": [
       "### Gadget Suppliers"
      ],
      "text/plain": [
       "<IPython.core.display.Markdown object>"
      ]
     },
     "metadata": {},
     "output_type": "display_data"
    },
    {
     "data": {
      "text/markdown": [
       "### Impact of Changes in the Evil Villain Industry on Gadget Suppliers\n",
       "\n",
       "#### Production Capacity Constraints\n",
       "- **Impact**: The increase in demand for advanced gadgets due to the rise of new villains in the market may strain the existing production capacity of gadget suppliers.\n",
       "- **Action Recommendation**: Gru should establish strategic partnerships with multiple suppliers to diversify his supply chain and mitigate risks associated with single-supplier dependency. Additionally, early ordering and demand forecasting can help in managing shortages.\n",
       "\n",
       "#### Price Pressures from Competition\n",
       "- **Impact**: Increased competition among gadget suppliers may lead to price pressures. While this could result in cost-saving opportunities, it could also cause margin squeezes for producers affecting the quality of supplies.\n",
       "- **Action Recommendation**: Gru should prioritize long-term contracts with key suppliers to lock in favorable prices and secure quality assurance. Emphasizing value over cost and maintaining strong supplier relationships will ensure access to the best technology.\n",
       "\n",
       "#### Technology Upgrade Transitions\n",
       "- **Impact**: Rapid technological advancements necessitate that suppliers continuously upgrade their offerings. This could lead to temporary disruptions as suppliers transition to new technologies.\n",
       "- **Action Recommendation**: Gru should invest in Research & Development collaboratively with suppliers to stay ahead of technological trends and ensure compatibility with upcoming gadget iterations. Establishing a technology road map with suppliers can facilitate smoother transitions and upgrade cycles.\n",
       "\n",
       "### Priorities for Gru's Operations\n",
       "1. **Risk Mitigation and Diversification**: Prioritize diversification of suppliers to hedge against production constraints and ensure a steady flow of supplies.\n",
       "2. **Strategic Agreements**: Negotiate long-term contracts focusing on price stability and quality compliance to counteract price competition.\n",
       "3. **Innovation Collaboration**: Foster joint development initiatives with suppliers to ensure leadership in technology and seamless updates.\n",
       "4. **Demand Forecasting**: Enhance forecasting capabilities to anticipate and strategize against potential market shifts impacting supply dynamics.\n",
       "  \n",
       "These actions will position Gru to effectively navigate changes in the evil villain industry while maintaining a competitive edge through robust and reliable gadget supply chains."
      ],
      "text/plain": [
       "<IPython.core.display.Markdown object>"
      ]
     },
     "metadata": {},
     "output_type": "display_data"
    }
   ],
   "source": [
    "stakeholders = [\n",
    "    \"\"\"Minions:\n",
    "    - Banana supply dependent\n",
    "    - Want latest gadgets\n",
    "    - Safety concerns with explosions\"\"\",\n",
    "    \n",
    "    \"\"\"Lab Scientists (Dr. Nefario):\n",
    "    - Equipment reliability worries\n",
    "    - Need advanced technology\n",
    "    - Want clear evil scheme direction\"\"\",\n",
    "    \n",
    "    \"\"\"Gru (Boss):\n",
    "    - Expects successful missions\n",
    "    - Want cost-effective operations\n",
    "    - Reputation risks with failed schemes\"\"\",\n",
    "    \n",
    "    \"\"\"Gadget Suppliers:\n",
    "    - Production capacity constraints\n",
    "    - Price pressures from competition\n",
    "    - Technology upgrade transitions\"\"\"\n",
    "]\n",
    "\n",
    "impact_results = await parallel(\n",
    "    \"\"\"Analyze how changes in the evil villain industry will impact this stakeholder group.\n",
    "    Provide specific impacts and recommended actions for Gru's operations.\n",
    "    Format with clear sections and priorities.\"\"\",\n",
    "    stakeholders\n",
    ")\n",
    "\n",
    "for stakeholder, result in zip(stakeholders, impact_results):\n",
    "    show(result, stakeholder.split(':')[0])"
   ]
  },
  {
   "cell_type": "code",
   "execution_count": null,
   "metadata": {},
   "outputs": [],
   "source": []
  }
 ],
 "metadata": {
  "kernelspec": {
   "display_name": ".venv (3.13.2)",
   "language": "python",
   "name": "python3"
  },
  "language_info": {
   "codemirror_mode": {
    "name": "ipython",
    "version": 3
   },
   "file_extension": ".py",
   "mimetype": "text/x-python",
   "name": "python",
   "nbconvert_exporter": "python",
   "pygments_lexer": "ipython3",
   "version": "3.13.2"
  }
 },
 "nbformat": 4,
 "nbformat_minor": 2
}
