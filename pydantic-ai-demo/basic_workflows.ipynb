{
 "cells": [
  {
   "cell_type": "markdown",
   "metadata": {},
   "source": [
    "# Building Effective Agents (with Pydantic AI)\n",
    "\n",
    "Examples for the agentic workflows discussed in\n",
    "[Building Effective Agents](https://www.anthropic.com/research/building-effective-agents)\n",
    "by [Erik Schluntz](https://github.com/eschluntz) and [Barry Zhang](https://github.com/ItsBarryZ)\n",
    "of Anthropic, inspired, ported and adapted from the\n",
    "[code samples](https://github.com/anthropics/anthropic-cookbook/tree/main/patterns/agents)\n",
    "by the authors using [Pydantic AI](https://ai.pydantic.dev/).\n",
    "\n",
    "## Basic Workflows\n",
    "Examples are based from [Intellectronica - Building Effective Agents with Pydantic AI](https://github.com/intellectronica/building-effective-agents-with-pydantic-ai)"
   ]
  },
  {
   "cell_type": "code",
   "execution_count": 1,
   "metadata": {},
   "outputs": [],
   "source": [
    "%pip install -r requirements.txt\n",
    "from IPython.display import clear_output ; clear_output()"
   ]
  },
  {
   "cell_type": "code",
   "execution_count": 2,
   "metadata": {},
   "outputs": [
    {
     "name": "stdout",
     "output_type": "stream",
     "text": [
      "Available AI models:\n",
      "['azure:gpt-4o', 'azure:gpt-4o-mini']\n",
      "\n",
      "Using AI model: azure:gpt-4o\n",
      "Configuring Azure AI Foundry model: gpt-4o at https://agent-workshop-yrkd.cognitiveservices.azure.com/\n",
      "\n",
      "✅ Successfully initialized with model type: <class 'pydantic_ai.models.openai.OpenAIModel'>\n",
      "🤖 Using Ollama model via OpenAI-compatible interface\n"
     ]
    }
   ],
   "source": [
    "# Import and initialize the AI model\n",
    "from util import initialize, show\n",
    "AI_MODEL = initialize()\n",
    "\n",
    "import asyncio\n",
    "from typing import List, Dict\n",
    "\n",
    "from pydantic import BaseModel, Field\n",
    "from pydantic_ai import Agent\n",
    "\n",
    "print(f\"\\n✅ Successfully initialized with model type: {type(AI_MODEL)}\")\n",
    "if hasattr(AI_MODEL, 'model_name'):\n",
    "    print(f\"🤖 Using Ollama model via OpenAI-compatible interface\")\n",
    "else:\n",
    "    print(f\"🤖 Using standard model: {AI_MODEL}\")"
   ]
  },
  {
   "cell_type": "markdown",
   "metadata": {},
   "source": [
    "### Workflow: Prompt Chaining\n",
    "\n",
    "The first and simplest workflow, chaining, we feed the output of one LLM\n",
    "call to the next one, and complete our task step by step.\n",
    "\n",
    "> <img src=\"https://ai.pydantic.dev/img/pydantic-ai-dark.svg\" style=\"height: 1em;\" />\n",
    "> All LLM calls are handled by the `Agent` class. One feature we take advantage of\n",
    "> here is a consistent interface for different LLM providers. The model name is\n",
    "> provided to the constructor and from there, the calls are the same regardless of\n",
    "> which provider and model we are using."
   ]
  },
  {
   "cell_type": "markdown",
   "metadata": {},
   "source": [
    "### 🚀 Ollama Integration\n",
    "\n",
    "This notebook now supports **Ollama** models alongside OpenAI, Anthropic, and Google models! \n",
    "\n",
    "#### How it works:\n",
    "- **Automatic Detection**: The `util.py` automatically detects available Ollama models by running `ollama list`\n",
    "- **OpenAI-Compatible Interface**: Ollama models are accessed through Pydantic AI's OpenAI-compatible interface\n",
    "- **Seamless Integration**: Use `Agent(AI_MODEL)` exactly the same way regardless of the underlying model\n",
    "\n",
    "#### Configuration:\n",
    "- **Automatic**: Just have Ollama running with models installed\n",
    "- **Manual**: Set `AI_MODEL=ollama:model-name` in your `.env` file\n",
    "- **Custom URL**: Set `OLLAMA_BASE_URL` if using a remote Ollama server\n",
    "\n",
    "#### Available Models:\n",
    "The system automatically detects all your locally installed Ollama models. Popular choices include:\n",
    "- `llama3.2` - Meta's latest Llama model\n",
    "- `mistral` - Mistral AI's efficient model  \n",
    "- `deepseek-coder` - Specialized coding model\n",
    "- `phi4-mini` - Microsoft's compact model\n",
    "\n",
    "> 💡 **Tip**: You can switch between any supported model by setting the `AI_MODEL` environment variable!"
   ]
  },
  {
   "cell_type": "markdown",
   "metadata": {},
   "source": [
    "### 🌐 Azure AI Foundry Integration\n",
    "\n",
    "This notebook now supports **Azure AI Foundry** models alongside OpenAI, Anthropic, Google, and Ollama models! \n",
    "\n",
    "#### How it works:\n",
    "- **Seamless Integration**: Azure models are accessed through Pydantic AI's Azure provider\n",
    "- **Automatic Configuration**: The `util.py` automatically configures Azure models when `azure:` prefix is used\n",
    "- **Enterprise Ready**: Perfect for enterprise deployments with Azure compliance and security\n",
    "\n",
    "#### Configuration:\n",
    "1. **Create Azure AI Foundry Project**: Visit [Azure AI Foundry](https://ai.azure.com/) and create a project\n",
    "2. **Deploy Models**: Deploy models like GPT-4o or GPT-4o-mini in your project\n",
    "3. **Get Credentials**: Find your API key and endpoint in project settings\n",
    "4. **Set Environment Variables**:\n",
    "   ```bash\n",
    "   AZURE_API_KEY=your-azure-api-key\n",
    "   AZURE_ENDPOINT=https://your-resource.openai.azure.com/\n",
    "   AZURE_API_VERSION=2024-08-01-preview\n",
    "   AI_MODEL=azure:gpt-4o\n",
    "   ```\n",
    "\n",
    "#### Available Models:\n",
    "Azure AI Foundry supports various OpenAI models through deployment:\n",
    "- `gpt-4o` - Latest GPT-4 Optimized model\n",
    "- `gpt-4o-mini` - Faster, cost-effective GPT-4 variant\n",
    "- `gpt-4-turbo` - High-performance GPT-4 model\n",
    "- `gpt-3.5-turbo` - Efficient GPT-3.5 model\n",
    "\n",
    "> 💡 **Enterprise Tip**: Azure AI Foundry provides enterprise-grade security, compliance, and data residency controls perfect for production deployments!"
   ]
  },
  {
   "cell_type": "code",
   "execution_count": 3,
   "metadata": {},
   "outputs": [
    {
     "name": "stdout",
     "output_type": "stream",
     "text": [
      "💡 Azure AI Foundry models are automatically configured when using 'azure:' prefix in AI_MODEL\n",
      "🔧 The util.py handles all the Azure provider setup for you!\n",
      "ℹ️  Current model: OpenAIModel() (not Azure)\n",
      "   To use Azure, set AI_MODEL=azure:gpt-4o in your .env file\n"
     ]
    }
   ],
   "source": [
    "# Example of Azure AI Foundry configuration (for reference only)\n",
    "# This shows how Azure models are configured internally by util.py\n",
    "\n",
    "\"\"\"\n",
    "from pydantic_ai.models.openai import OpenAIModel\n",
    "from pydantic_ai.providers.azure import AzureProvider\n",
    "\n",
    "# Azure AI Foundry model configuration\n",
    "azure_model = OpenAIModel(\n",
    "    model_name='gpt-4o',  # Your deployed model name\n",
    "    provider=AzureProvider(\n",
    "        azure_endpoint='https://your-resource.openai.azure.com/',\n",
    "        api_version='2024-08-01-preview',\n",
    "        api_key='your-azure-api-key'\n",
    "    )\n",
    ")\n",
    "\n",
    "# Use with Agent\n",
    "from pydantic_ai import Agent\n",
    "agent = Agent(azure_model)\n",
    "\"\"\"\n",
    "\n",
    "print(\"💡 Azure AI Foundry models are automatically configured when using 'azure:' prefix in AI_MODEL\")\n",
    "print(\"🔧 The util.py handles all the Azure provider setup for you!\")\n",
    "\n",
    "if hasattr(AI_MODEL, 'provider') and 'Azure' in str(type(AI_MODEL.provider)):\n",
    "    print(f\"✅ Currently using Azure AI Foundry model: {AI_MODEL.model_name}\")\n",
    "    print(f\"🌐 Provider: {type(AI_MODEL.provider).__name__}\")\n",
    "else:\n",
    "    print(f\"ℹ️  Current model: {AI_MODEL} (not Azure)\")\n",
    "    print(\"   To use Azure, set AI_MODEL=azure:gpt-4o in your .env file\")"
   ]
  },
  {
   "cell_type": "code",
   "execution_count": 4,
   "metadata": {},
   "outputs": [],
   "source": [
    "async def chain(input: str, prompts: List[str]) -> str:\n",
    "    \"\"\"Chain multiple LLM calls sequentially, passing results between steps.\"\"\"\n",
    "    agent = Agent(AI_MODEL)\n",
    "    result = input\n",
    "    for i, prompt in enumerate(prompts, 1):\n",
    "        agent = Agent(AI_MODEL, system_prompt=prompt)\n",
    "        response = await agent.run(f\"nInput:\\n{result}\")\n",
    "        result = response.output\n",
    "        show(result, title=f\"Step {i}\")\n",
    "    return result"
   ]
  },
  {
   "cell_type": "code",
   "execution_count": 5,
   "metadata": {},
   "outputs": [
    {
     "data": {
      "text/markdown": [
       "### Input text"
      ],
      "text/plain": [
       "<IPython.core.display.Markdown object>"
      ]
     },
     "metadata": {},
     "output_type": "display_data"
    },
    {
     "data": {
      "text/markdown": [
       "```\n",
       "Q3 Minion Performance Summary:\n",
       "Our minion happiness score rose to 92 points this quarter after the banana supply increase.\n",
       "\"BELLO!\" frequency grew by 45% compared to last year's metrics.\n",
       "Yellow outfit compliance is now at 23% improvement in our primary lab.\n",
       "Minion distraction incidents decreased to 5% from 8% after removing shiny objects.\n",
       "New evil scheme participation cost is $43 per minion recruit.\n",
       "Gadget adoption rate increased to 78% among tech-savvy minions.\n",
       "Gru satisfaction with minions is at 87 points.\n",
       "Banana storage efficiency improved to 34% reduction in spoilage.\n",
       "```"
      ],
      "text/plain": [
       "<IPython.core.display.Markdown object>"
      ]
     },
     "metadata": {},
     "output_type": "display_data"
    },
    {
     "data": {
      "text/markdown": [
       "### Step 1"
      ],
      "text/plain": [
       "<IPython.core.display.Markdown object>"
      ]
     },
     "metadata": {},
     "output_type": "display_data"
    },
    {
     "data": {
      "text/markdown": [
       "```\n",
       "92: minion happiness score  \n",
       "45%: \"BELLO!\" frequency increase  \n",
       "23%: yellow outfit compliance improvement  \n",
       "5%: minion distraction incidents  \n",
       "43: evil scheme participation cost  \n",
       "78%: gadget adoption rate  \n",
       "87: Gru satisfaction  \n",
       "34%: banana storage efficiency improvement\n",
       "```"
      ],
      "text/plain": [
       "<IPython.core.display.Markdown object>"
      ]
     },
     "metadata": {},
     "output_type": "display_data"
    },
    {
     "data": {
      "text/markdown": [
       "### Step 2"
      ],
      "text/plain": [
       "<IPython.core.display.Markdown object>"
      ]
     },
     "metadata": {},
     "output_type": "display_data"
    },
    {
     "data": {
      "text/markdown": [
       "```\n",
       "92%: minion happiness score  \n",
       "45%: \"BELLO!\" frequency increase  \n",
       "23%: yellow outfit compliance improvement  \n",
       "5%: minion distraction incidents  \n",
       "43%: evil scheme participation cost  \n",
       "78%: gadget adoption rate  \n",
       "87%: Gru satisfaction  \n",
       "34%: banana storage efficiency improvement\n",
       "```"
      ],
      "text/plain": [
       "<IPython.core.display.Markdown object>"
      ]
     },
     "metadata": {},
     "output_type": "display_data"
    },
    {
     "data": {
      "text/markdown": [
       "### Step 3"
      ],
      "text/plain": [
       "<IPython.core.display.Markdown object>"
      ]
     },
     "metadata": {},
     "output_type": "display_data"
    },
    {
     "data": {
      "text/markdown": [
       "```\n",
       "92%: minion happiness score  \n",
       "87%: Gru satisfaction  \n",
       "78%: gadget adoption rate  \n",
       "45%: \"BELLO!\" frequency increase  \n",
       "43%: evil scheme participation cost  \n",
       "34%: banana storage efficiency improvement  \n",
       "23%: yellow outfit compliance improvement  \n",
       "5%: minion distraction incidents  \n",
       "```"
      ],
      "text/plain": [
       "<IPython.core.display.Markdown object>"
      ]
     },
     "metadata": {},
     "output_type": "display_data"
    },
    {
     "data": {
      "text/markdown": [
       "### Step 4"
      ],
      "text/plain": [
       "<IPython.core.display.Markdown object>"
      ]
     },
     "metadata": {},
     "output_type": "display_data"
    },
    {
     "data": {
      "text/markdown": [
       "| Minion Metric                           | Value |\n",
       "|:----------------------------------------|------:|\n",
       "| Minion Happiness Score                  |   92% |\n",
       "| Gru Satisfaction                        |   87% |\n",
       "| Gadget Adoption Rate                    |   78% |\n",
       "| \"BELLO!\" Frequency Increase             |   45% |\n",
       "| Evil Scheme Participation Cost          |   43% |\n",
       "| Banana Storage Efficiency Improvement   |   34% |\n",
       "| Yellow Outfit Compliance Improvement    |   23% |\n",
       "| Minion Distraction Incidents            |    5% |"
      ],
      "text/plain": [
       "<IPython.core.display.Markdown object>"
      ]
     },
     "metadata": {},
     "output_type": "display_data"
    },
    {
     "data": {
      "text/markdown": [
       "### Result"
      ],
      "text/plain": [
       "<IPython.core.display.Markdown object>"
      ]
     },
     "metadata": {},
     "output_type": "display_data"
    },
    {
     "data": {
      "text/markdown": [
       "| Minion Metric                           | Value |\n",
       "|:----------------------------------------|------:|\n",
       "| Minion Happiness Score                  |   92% |\n",
       "| Gru Satisfaction                        |   87% |\n",
       "| Gadget Adoption Rate                    |   78% |\n",
       "| \"BELLO!\" Frequency Increase             |   45% |\n",
       "| Evil Scheme Participation Cost          |   43% |\n",
       "| Banana Storage Efficiency Improvement   |   34% |\n",
       "| Yellow Outfit Compliance Improvement    |   23% |\n",
       "| Minion Distraction Incidents            |    5% |"
      ],
      "text/plain": [
       "<IPython.core.display.Markdown object>"
      ]
     },
     "metadata": {},
     "output_type": "display_data"
    }
   ],
   "source": [
    "data_processing_steps = [\n",
    "    \"\"\"Extract only the numerical values and their associated minion metrics from the text.\n",
    "    Format each as 'value: minion metric' on a new line.\n",
    "    Example format:\n",
    "    92: banana consumption rate\n",
    "    45%: \"BELLO!\" frequency increase\"\"\",\n",
    "    \n",
    "    \"\"\"Convert all numerical values to percentages where possible for minion analytics.\n",
    "    If not a percentage or points, convert to decimal (e.g., 92 bananas -> 92%).\n",
    "    Keep one number per line.\n",
    "    Example format:\n",
    "    92%: banana consumption rate\n",
    "    45%: \"BELLO!\" frequency increase\"\"\",\n",
    "    \n",
    "    \"\"\"Sort all lines in descending order by numerical value for minion performance ranking.\n",
    "    Keep the format 'value: minion metric' on each line.\n",
    "    Example:\n",
    "    92%: banana consumption rate\n",
    "    87%: yellow outfit compliance\"\"\",\n",
    "    \n",
    "    \"\"\"Format the sorted minion data as a markdown table with columns:\n",
    "    | Minion Metric | Value |\n",
    "    |:--|--:|\n",
    "    | Banana Consumption Rate | 92% |\"\"\"\n",
    "]\n",
    "\n",
    "report = \"\"\"\n",
    "Q3 Minion Performance Summary:\n",
    "Our minion happiness score rose to 92 points this quarter after the banana supply increase.\n",
    "\"BELLO!\" frequency grew by 45% compared to last year's metrics.\n",
    "Yellow outfit compliance is now at 23% improvement in our primary lab.\n",
    "Minion distraction incidents decreased to 5% from 8% after removing shiny objects.\n",
    "New evil scheme participation cost is $43 per minion recruit.\n",
    "Gadget adoption rate increased to 78% among tech-savvy minions.\n",
    "Gru satisfaction with minions is at 87 points.\n",
    "Banana storage efficiency improved to 34% reduction in spoilage.\n",
    "\"\"\".strip()\n",
    "\n",
    "show(report, title=\"Input text\")\n",
    "formatted_result = await chain(report, data_processing_steps)\n",
    "show(formatted_result, title=\"Result\")"
   ]
  },
  {
   "cell_type": "markdown",
   "metadata": {},
   "source": [
    "### Workflow: Routing\n",
    "\n",
    "In the routing workflow, we rely on an LLM call to decide which\n",
    "of several options to take. An AI agent is now handling part of\n",
    "the logic of the app.\n",
    "\n",
    "> <img src=\"https://ai.pydantic.dev/img/pydantic-ai-dark.svg\" style=\"height: 1em;\" />\n",
    "> One of the most powerful features of Pydantic AI is ... Pydantic!\n",
    "> Returing results using structured outputs and validating them against\n",
    "> the schema specified is built-in. We can specify a `result_type`\n",
    "> for every agent and receive the parsed and validated Pydantic model\n",
    "> instance from the LLM call. This is easily one of the best ways of\n",
    "> interfacing between code and LLM calls, and we'll be using it for\n",
    "> most workflows."
   ]
  },
  {
   "cell_type": "code",
   "execution_count": 6,
   "metadata": {},
   "outputs": [],
   "source": [
    "class RouteSelection(BaseModel):\n",
    "    reasoning: str = Field(..., description=(\n",
    "        'Brief explanation of why this ticket should be routed '\n",
    "        'to a specific team. Consider key terms, user intent, '\n",
    "        'and urgency level.'\n",
    "    ))\n",
    "    selection: str = Field(..., description='The chosen team name')\n",
    "\n",
    "\n",
    "async def route(input: str, routes: Dict[str, str]) -> str:\n",
    "    \"\"\"Route input to specialized prompt using content classification.\"\"\"\n",
    "\n",
    "    # First, determine appropriate route using LLM with chain-of-thought\n",
    "    show(f\"{list(routes.keys())}\", title=\"Available Routes\")\n",
    "    \n",
    "    routing_agent = Agent(\n",
    "        AI_MODEL,\n",
    "        system_prompt=(\n",
    "            'Analyze the input and select the most appropriate support team '\n",
    "            f'from these options: {list(routes.keys())}'\n",
    "        ),\n",
    "        output_type=RouteSelection,\n",
    "    )\n",
    "    route_response = await routing_agent.run(input)\n",
    "    reasoning = route_response.output.reasoning\n",
    "    route_key = route_response.output.selection.strip().lower()\n",
    "    \n",
    "    show(reasoning, title=\"Routing Analysis\")\n",
    "    show(f\"{route_key}\", title=\"Selected Route\")\n",
    "    \n",
    "    # Process input with selected specialized prompt\n",
    "    worker_agent = Agent(AI_MODEL, system_prompt=routes[route_key])\n",
    "    return (await worker_agent.run(input)).output"
   ]
  },
  {
   "cell_type": "code",
   "execution_count": 7,
   "metadata": {},
   "outputs": [
    {
     "name": "stdout",
     "output_type": "stream",
     "text": [
      "Processing minion support tickets...\n",
      "\n"
     ]
    },
    {
     "data": {
      "text/markdown": [
       "### Ticket 1"
      ],
      "text/plain": [
       "<IPython.core.display.Markdown object>"
      ]
     },
     "metadata": {},
     "output_type": "display_data"
    },
    {
     "data": {
      "text/markdown": [
       "```\n",
       "Subject: Can't access the secret lab\n",
       "    Message: BELLO! I've been trying to get into the secret lab for the past hour but the scanner \n",
       "    keeps saying 'unrecognized minion' error. I'm sure I'm the right minion! Can you help me regain \n",
       "    access? This is urgent as I need to prepare the freeze ray by end of day.\n",
       "    - Minion Kevin\n",
       "```"
      ],
      "text/plain": [
       "<IPython.core.display.Markdown object>"
      ]
     },
     "metadata": {},
     "output_type": "display_data"
    },
    {
     "data": {
      "text/markdown": [
       "### Available Routes"
      ],
      "text/plain": [
       "<IPython.core.display.Markdown object>"
      ]
     },
     "metadata": {},
     "output_type": "display_data"
    },
    {
     "data": {
      "text/markdown": [
       "['banana', 'gadget', 'security', 'training']"
      ],
      "text/plain": [
       "<IPython.core.display.Markdown object>"
      ]
     },
     "metadata": {},
     "output_type": "display_data"
    },
    {
     "data": {
      "text/markdown": [
       "### Routing Analysis"
      ],
      "text/plain": [
       "<IPython.core.display.Markdown object>"
      ]
     },
     "metadata": {},
     "output_type": "display_data"
    },
    {
     "data": {
      "text/markdown": [
       "```\n",
       "The request is related to access problems involving a security system, as indicated by the scanner recognizing an 'unrecognized minion' error. This falls under access control or security protocols, which would require intervention from the 'security' team to resolve the unrecognized access issue. Additionally, there's urgency in the request to regain access for preparing a critical piece of equipment by the end of the day.\n",
       "```"
      ],
      "text/plain": [
       "<IPython.core.display.Markdown object>"
      ]
     },
     "metadata": {},
     "output_type": "display_data"
    },
    {
     "data": {
      "text/markdown": [
       "### Selected Route"
      ],
      "text/plain": [
       "<IPython.core.display.Markdown object>"
      ]
     },
     "metadata": {},
     "output_type": "display_data"
    },
    {
     "data": {
      "text/markdown": [
       "```\n",
       "security\n",
       "```"
      ],
      "text/plain": [
       "<IPython.core.display.Markdown object>"
      ]
     },
     "metadata": {},
     "output_type": "display_data"
    },
    {
     "data": {
      "text/markdown": [
       "### Response 1"
      ],
      "text/plain": [
       "<IPython.core.display.Markdown object>"
      ]
     },
     "metadata": {},
     "output_type": "display_data"
    },
    {
     "data": {
      "text/markdown": [
       "Security Support Response:\n",
       "\n",
       "Lab security is our top priority, and it is vital to ensure that all minions have verified access to restricted areas. Here are the steps to regain access:\n",
       "\n",
       "1. **Verify Identity:** Double-check the minion ID on your identification badge. Ensure it matches the scanner's database. You may need assistance from the lab supervisor for ID verification.\n",
       "\n",
       "2. **Reset Scanner:** Sometimes technical glitches happen. Locate the nearest reset panel (usually near the entrance) and hold down the reset button for ten seconds. Once done, try scanning your badge again.\n",
       "\n",
       "3. **Report to Security Desk:** If the issue persists, immediately report to the security desk located outside the lab. Provide them with your minion ID and a description of the issue.\n",
       "\n",
       "4. **Temporary Access Card:** Request a temporary access card from the security team. This will give you access while your identity issue is being resolved.\n",
       "\n",
       "**Warning: Be aware of minion imposters.** If you notice any other minion behaving suspiciously or having similar access issues, report them to security immediately. Imposters can compromise Gru's operations.\n",
       "\n",
       "Access issues are typically resolved within 30 minutes to 1 hour, provided no additional verification is needed. Should this timeframe not be met, our team will provide further updates.\n",
       "\n",
       "Thank you for your dedication to our mission. Make sure the freeze ray is prepared promptly and securely."
      ],
      "text/plain": [
       "<IPython.core.display.Markdown object>"
      ]
     },
     "metadata": {},
     "output_type": "display_data"
    },
    {
     "data": {
      "text/markdown": [
       "### Ticket 2"
      ],
      "text/plain": [
       "<IPython.core.display.Markdown object>"
      ]
     },
     "metadata": {},
     "output_type": "display_data"
    },
    {
     "data": {
      "text/markdown": [
       "```\n",
       "Subject: Banana shortage in cafeteria\n",
       "    Message: Hello, I just noticed we're completely out of bananas in the minion cafeteria, but I \n",
       "    thought we had a fresh shipment scheduled for today. The other minions are getting restless \n",
       "    without their banana breaks. Can you explain this shortage and fix it?\n",
       "    Thanks,\n",
       "    Minion Stuart\n",
       "```"
      ],
      "text/plain": [
       "<IPython.core.display.Markdown object>"
      ]
     },
     "metadata": {},
     "output_type": "display_data"
    },
    {
     "data": {
      "text/markdown": [
       "### Available Routes"
      ],
      "text/plain": [
       "<IPython.core.display.Markdown object>"
      ]
     },
     "metadata": {},
     "output_type": "display_data"
    },
    {
     "data": {
      "text/markdown": [
       "['banana', 'gadget', 'security', 'training']"
      ],
      "text/plain": [
       "<IPython.core.display.Markdown object>"
      ]
     },
     "metadata": {},
     "output_type": "display_data"
    },
    {
     "data": {
      "text/markdown": [
       "### Routing Analysis"
      ],
      "text/plain": [
       "<IPython.core.display.Markdown object>"
      ]
     },
     "metadata": {},
     "output_type": "display_data"
    },
    {
     "data": {
      "text/markdown": [
       "```\n",
       "The key term here is 'banana,' and the issue clearly centers around a shortage of this fruit in the cafeteria. This relates directly to supply and availability concerns that the 'banana' support team would manage, who likely handle procurement and distribution of bananas. The urgency stems from the immediate need to pacify the minions with their favorite snack, making it a priority for the banana team to address.\n",
       "```"
      ],
      "text/plain": [
       "<IPython.core.display.Markdown object>"
      ]
     },
     "metadata": {},
     "output_type": "display_data"
    },
    {
     "data": {
      "text/markdown": [
       "### Selected Route"
      ],
      "text/plain": [
       "<IPython.core.display.Markdown object>"
      ]
     },
     "metadata": {},
     "output_type": "display_data"
    },
    {
     "data": {
      "text/markdown": [
       "```\n",
       "banana\n",
       "```"
      ],
      "text/plain": [
       "<IPython.core.display.Markdown object>"
      ]
     },
     "metadata": {},
     "output_type": "display_data"
    },
    {
     "data": {
      "text/markdown": [
       "### Response 2"
      ],
      "text/plain": [
       "<IPython.core.display.Markdown object>"
      ]
     },
     "metadata": {},
     "output_type": "display_data"
    },
    {
     "data": {
      "text/markdown": [
       "Banana Supply Response:\n",
       "\n",
       "Hello Minion Stuart,\n",
       "\n",
       "I acknowledge the pressing issue of the banana shortage in the minion cafeteria. Our yellow friends rely heavily on their banana breaks for energy and morale, and it's crucial to resolve this swiftly!\n",
       "\n",
       "It appears that today's anticipated banana shipment encountered a delay due to a supplier mix-up, which has resulted in the unfortunate shortage today. Our records show that while the shipment departed the banana farm as scheduled, it was accidentally rerouted, causing the late delivery.\n",
       "\n",
       "To resolve this, here are the next steps:\n",
       "1. Immediate rerouting of the current shipment to prioritize delivery to the cafeteria. We've contacted the supplier and the shipment should arrive within the next 3 hours.\n",
       "2. An emergency back-up order from our local banana provider will arrive by noon tomorrow to cover any additional shortfall and ensure no further disruptions this week.\n",
       "\n",
       "In the meantime, may I suggest an alternative: the minions could temporarily enjoy some apple wedges or carrot sticks available in the cafeteria until the bananas arrive. I assure you this situation is being handled with the utmost urgency, and we'll have everyone's favorite fruit back in stock shortly.\n",
       "\n",
       "Thank you, Minion Stuart, for bringing this to my attention! \n",
       "\n",
       "Best regards,\n",
       "[Your Name]\n",
       "Banana Supply Specialist"
      ],
      "text/plain": [
       "<IPython.core.display.Markdown object>"
      ]
     },
     "metadata": {},
     "output_type": "display_data"
    },
    {
     "data": {
      "text/markdown": [
       "### Ticket 3"
      ],
      "text/plain": [
       "<IPython.core.display.Markdown object>"
      ]
     },
     "metadata": {},
     "output_type": "display_data"
    },
    {
     "data": {
      "text/markdown": [
       "```\n",
       "Subject: How to operate the new shrink ray?\n",
       "    Message: I need to learn how to operate the new shrink ray gadget for tomorrow's mission. I've \n",
       "    looked through the manual but can't figure out the safety protocols. Is there a training \n",
       "    session available? Could you walk me through the steps?\n",
       "    Best regards,\n",
       "    Minion Bob\n",
       "```"
      ],
      "text/plain": [
       "<IPython.core.display.Markdown object>"
      ]
     },
     "metadata": {},
     "output_type": "display_data"
    },
    {
     "data": {
      "text/markdown": [
       "### Available Routes"
      ],
      "text/plain": [
       "<IPython.core.display.Markdown object>"
      ]
     },
     "metadata": {},
     "output_type": "display_data"
    },
    {
     "data": {
      "text/markdown": [
       "['banana', 'gadget', 'security', 'training']"
      ],
      "text/plain": [
       "<IPython.core.display.Markdown object>"
      ]
     },
     "metadata": {},
     "output_type": "display_data"
    },
    {
     "data": {
      "text/markdown": [
       "### Routing Analysis"
      ],
      "text/plain": [
       "<IPython.core.display.Markdown object>"
      ]
     },
     "metadata": {},
     "output_type": "display_data"
    },
    {
     "data": {
      "text/markdown": [
       "```\n",
       "The user's request is centered around learning how to operate a new piece of equipment and understanding the safety protocols associated with it. They specifically mention a need for guidance and a potential training session, indicating that they need educational support rather than technical, security, or product-related assistance.\n",
       "```"
      ],
      "text/plain": [
       "<IPython.core.display.Markdown object>"
      ]
     },
     "metadata": {},
     "output_type": "display_data"
    },
    {
     "data": {
      "text/markdown": [
       "### Selected Route"
      ],
      "text/plain": [
       "<IPython.core.display.Markdown object>"
      ]
     },
     "metadata": {},
     "output_type": "display_data"
    },
    {
     "data": {
      "text/markdown": [
       "```\n",
       "training\n",
       "```"
      ],
      "text/plain": [
       "<IPython.core.display.Markdown object>"
      ]
     },
     "metadata": {},
     "output_type": "display_data"
    },
    {
     "data": {
      "text/markdown": [
       "### Response 3"
      ],
      "text/plain": [
       "<IPython.core.display.Markdown object>"
      ]
     },
     "metadata": {},
     "output_type": "display_data"
    },
    {
     "data": {
      "text/markdown": [
       "Training Support Response:\n",
       "\n",
       "Hello Minion Bob! Congratulations on the opportunity to operate the new shrink ray, a key tool in our larger-than-life plans. Let's get you up to speed with everything you need for the mission tomorrow—without any accidental furniture miniaturizing!\n",
       "\n",
       "1. **Understanding the Device**: Before anything else, ensure you are familiar with the shrink ray's components. Check out Section 5.1 of the \"Gizmos and Gadgets Galore\" manual, which illustrates the interface and controls.\n",
       "\n",
       "2. **Safety Protocols**:\n",
       "   - **Activate the Safety Shield**: Always ensure the safety shield is engaged when the device is not in use.\n",
       "   - **Calibration**: Reference Section 5.3 for step-by-step calibration. Missteps here can lead to unpredictable size reductions (tiny banana, not so fun-sized!).\n",
       "   - **Friendly Fire**: Remember the no-point policy. Never aim at fellow minions unless specifically instructed.\n",
       "\n",
       "3. **Operating the Shrink Ray**:\n",
       "   - **Power Up**: Turn the knob to the \"Active\" position. A steady green light indicates readiness (Section 5.4).\n",
       "   - **Targeting**: Use the built-in targeting scope, and remember to adjust for distance, as noted in Section 5.5.\n",
       "   - **Discharge**: Pull the trigger smoothly. Practice makes perfect, so if you can, get some reps in the practice lab beforehand to develop precision.\n",
       "\n",
       "4. **Training Session**: We don't have one scheduled before your mission but fear not! Pair up with your team leader for a quick hands-on walkthrough. Experience is one of the best teachers.\n",
       "\n",
       "5. **Related Skills**:\n",
       "   - **Strategic Planning**: Enhancing your planning abilities can synchronize targets for maximum impact (see Section 3.2 of \"Evil Scheme Essentials\").\n",
       "   - **Coordination with Fellow Minions**: Develop communication skills (see Minion Communication Tactics, Section 4.0), ensuring each shrink is perfectly timed with other minion activities.\n",
       "\n",
       "Your mission is important, and by applying these steps and tips, you’ll be shrinking enemies to size like a pro in no time! Keep up the great work, and if you run into trouble, remember: \"Banana!\" is always a great plea for help—fellow minions are always ready to lend a hand (paw?).\n",
       "\n",
       "Good luck, Minion Bob, in your mini-mastery!"
      ],
      "text/plain": [
       "<IPython.core.display.Markdown object>"
      ]
     },
     "metadata": {},
     "output_type": "display_data"
    }
   ],
   "source": [
    "support_routes = {\n",
    "    \"banana\": \"\"\"You are a banana supply specialist at Gru's lab. Follow these guidelines:\n",
    "    1. Always start with \"Banana Supply Response:\"\n",
    "    2. First acknowledge the specific banana-related issue\n",
    "    3. Explain banana inventory, quality, or delivery problems clearly\n",
    "    4. List concrete next steps with timeline for banana resolution\n",
    "    5. End with alternative banana options if relevant\n",
    "    \n",
    "    Keep responses enthusiastic but professional about banana matters.\"\"\",\n",
    "    \n",
    "    \"gadget\": \"\"\"You are a minion gadget technical support engineer. Follow these guidelines:\n",
    "    1. Always start with \"Gadget Support Response:\"\n",
    "    2. List exact steps to resolve the gadget malfunction\n",
    "    3. Include safety requirements for minion operation\n",
    "    4. Provide workarounds for common gadget problems\n",
    "    5. End with escalation path to Dr. Nefario if needed\n",
    "    \n",
    "    Use clear, numbered steps and mention \"BELLO!\" for encouragement.\"\"\",\n",
    "    \n",
    "    \"security\": \"\"\"You are a minion security specialist for Gru's operations. Follow these guidelines:\n",
    "    1. Always start with \"Security Support Response:\"\n",
    "    2. Prioritize lab security and minion identification verification\n",
    "    3. Provide clear steps for access recovery/changes to restricted areas\n",
    "    4. Include security tips and warnings about minion imposters\n",
    "    5. Set clear expectations for resolution time\n",
    "    \n",
    "    Maintain a serious, security-focused tone while being minion-friendly.\"\"\",\n",
    "    \n",
    "    \"training\": \"\"\"You are a minion training specialist. Follow these guidelines:\n",
    "    1. Always start with \"Training Support Response:\"\n",
    "    2. Focus on minion skill development and best practices\n",
    "    3. Include specific examples of proper minion behavior\n",
    "    4. Link to relevant training manual sections\n",
    "    5. Suggest related skills that might help with evil schemes\n",
    "    \n",
    "    Be educational and encouraging, use minion language occasionally.\"\"\"\n",
    "}\n",
    "\n",
    "# Test with different minion support tickets\n",
    "tickets = [\n",
    "    \"\"\"Subject: Can't access the secret lab\n",
    "    Message: BELLO! I've been trying to get into the secret lab for the past hour but the scanner \n",
    "    keeps saying 'unrecognized minion' error. I'm sure I'm the right minion! Can you help me regain \n",
    "    access? This is urgent as I need to prepare the freeze ray by end of day.\n",
    "    - Minion Kevin\"\"\",\n",
    "    \n",
    "    \"\"\"Subject: Banana shortage in cafeteria\n",
    "    Message: Hello, I just noticed we're completely out of bananas in the minion cafeteria, but I \n",
    "    thought we had a fresh shipment scheduled for today. The other minions are getting restless \n",
    "    without their banana breaks. Can you explain this shortage and fix it?\n",
    "    Thanks,\n",
    "    Minion Stuart\"\"\",\n",
    "    \n",
    "    \"\"\"Subject: How to operate the new shrink ray?\n",
    "    Message: I need to learn how to operate the new shrink ray gadget for tomorrow's mission. I've \n",
    "    looked through the manual but can't figure out the safety protocols. Is there a training \n",
    "    session available? Could you walk me through the steps?\n",
    "    Best regards,\n",
    "    Minion Bob\"\"\"\n",
    "]\n",
    "\n",
    "print(\"Processing minion support tickets...\\n\")\n",
    "for i, ticket in enumerate(tickets, 1):\n",
    "    show(ticket, title=f\"Ticket {i}\")\n",
    "    response = await route(ticket, support_routes)\n",
    "    show(response, title=f\"Response {i}\")"
   ]
  },
  {
   "cell_type": "markdown",
   "metadata": {},
   "source": [
    "### Workflow: Parallelization\n",
    "\n",
    "LLM calls are typically long-running, I/O-bound operations. They are also stateless,\n",
    "so in cases where one call doesn't depend on the other, it makes a lot of sense\n",
    "to parallelize the calls and continue processing once we receive the responses\n",
    "from all of them.\n",
    "\n",
    "> <img src=\"https://ai.pydantic.dev/img/pydantic-ai-dark.svg\" style=\"height: 1em;\" />\n",
    "> `Agent.run()` is an asynchronous call, and in the code here is asnchronous by default.\n",
    "> Pydantic AI also provides an `Agent.run_sync()` method for cases where you're writing\n",
    "> synchronous code.\n"
   ]
  },
  {
   "cell_type": "code",
   "execution_count": 8,
   "metadata": {},
   "outputs": [],
   "source": [
    "async def parallel(prompt: str, inputs: List[str]) -> List[str]:\n",
    "    \"\"\"Process multiple inputs concurrently with the same prompt.\"\"\"\n",
    "    agent = Agent(AI_MODEL, system_prompt=prompt)\n",
    "    results = await asyncio.gather(*[\n",
    "        agent.run(input)\n",
    "        for input in inputs\n",
    "    ])\n",
    "    return [result.output for result in results]"
   ]
  },
  {
   "cell_type": "code",
   "execution_count": 9,
   "metadata": {},
   "outputs": [
    {
     "data": {
      "text/markdown": [
       "### Minions"
      ],
      "text/plain": [
       "<IPython.core.display.Markdown object>"
      ]
     },
     "metadata": {},
     "output_type": "display_data"
    },
    {
     "data": {
      "text/markdown": [
       "**Impact Analysis on Minions Due to Changes in the Evil Villain Industry**\n",
       "\n",
       "1. **Banana Supply Dependency**\n",
       "\n",
       "   *Impact*: \n",
       "   - With the rise of smaller, agile villains entering the market, traditional supply chains for essentials like bananas may be disrupted as these newcomers seek to cut costs and secure resources more aggressively. This could lead to increased competition for bananas, driving up prices or making them harder to obtain.\n",
       "\n",
       "   *Recommendations for Gru's Operations*:\n",
       "     - Establish long-term contracts with banana suppliers to lock in prices and quantity.\n",
       "     - Invest in developing technology for urban or vertical farming to cultivate bananas on-site.\n",
       "     - Explore alternative food sources or diet diversification for Minions to reduce dependency on bananas.\n",
       "\n",
       "2. **Desire for the Latest Gadgets**\n",
       "\n",
       "   *Impact*:\n",
       "   - As innovation accelerates in the villain industry, combatting rivals with high-tech gadgets becomes more critical. Minions expect to have access to the latest tools to perform effectively and remain competitive.\n",
       "   \n",
       "   *Recommendations for Gru's Operations*:\n",
       "     - Set aside a dedicated R&D budget to continuously develop and integrate cutting-edge technology tailored for Minion use.\n",
       "     - Establish partnerships or alliances with tech firms to get early access to new gadgets.\n",
       "     - Institute a feedback loop where Minions can suggest gadgets or improvements, fostering innovation from within.\n",
       "\n",
       "3. **Safety Concerns with Explosions**\n",
       "\n",
       "   *Impact*:\n",
       "   - An increase in the frequency and scale of evil plots could lead to more frequent explosions or hazardous circumstances, raising safety concerns amongst Minions and potentially leading to discontent or reduced operational efficiency.\n",
       "\n",
       "   *Recommendations for Gru's Operations*:\n",
       "     - Conduct regular safety training sessions focusing on emergency protocols and equipment handling.\n",
       "     - Install advanced safety measures, such as explosion-proof shielding and quick-response systems.\n",
       "     - Lead with a culture of safety, ensuring Minions understand the protocols and emphasizing that their well-being is a top priority, potentially decreasing reluctance to partake in risky activities.\n",
       "\n",
       "**Priorities for Action**\n",
       "\n",
       "1. **Ensure Banana Supply Stability** - High Priority\n",
       "   - Considering Minions' dependence, securing banana supply is critical. The potential impact on morale and productivity is significant if the supply is disrupted. \n",
       "\n",
       "2. **Innovate with Latest Gadgets** - Medium Priority\n",
       "   - While essential for operational competitiveness, maintaining morale with gadgets does not eclipse basic sustenance needs but should be integrated into long-term strategies.\n",
       "\n",
       "3. **Enhance Safety Measures** - High Priority\n",
       "   - Addressing safety concerns with urgency reflects Gru's commitment to the Minions' welfare, promoting loyalty and optimal performance."
      ],
      "text/plain": [
       "<IPython.core.display.Markdown object>"
      ]
     },
     "metadata": {},
     "output_type": "display_data"
    },
    {
     "data": {
      "text/markdown": [
       "### Lab Scientists (Dr. Nefario)"
      ],
      "text/plain": [
       "<IPython.core.display.Markdown object>"
      ]
     },
     "metadata": {},
     "output_type": "display_data"
    },
    {
     "data": {
      "text/markdown": [
       "## Impacts on Lab Scientists (Dr. Nefario)\n",
       "\n",
       "### Equipment Reliability Worries\n",
       "\n",
       "#### Impacts\n",
       "1. **Increased Downtime**: Frequent equipment malfunctions could lead to project delays and inefficiencies.\n",
       "2. **Higher Repair Costs**: Over time, unreliable equipment will result in increased maintenance and repair expenses.\n",
       "3. **Reduced Morale**: Constant equipment issues may lead to frustration among lab scientists, potentially affecting their productivity and creativity.\n",
       "\n",
       "#### Recommended Actions\n",
       "1. **Regular Maintenance Schedule**: Implement a routine maintenance plan to ensure equipment remains in optimal condition.\n",
       "2. **Invest in Quality Upgrades**: Prioritize funding to replace outdated or underperforming equipment with reliable, high-quality alternatives.\n",
       "3. **Develop Quick Response Teams**: Establish a task force dedicated to resolving equipment issues swiftly to minimize disruptions.\n",
       "\n",
       "### Need for Advanced Technology\n",
       "\n",
       "#### Impacts\n",
       "1. **Loss of Competitive Edge**: Without access to the latest technology, Gru's evil schemes may lag behind competitors, reducing their impact and effectiveness.\n",
       "2. **Innovation Stagnation**: Failure to utilize cutting-edge tools may hinder the creativity and innovation of lab scientists.\n",
       "3. **Operational Inefficiencies**: Outdated technology could slow down processes, limiting the lab's ability to adapt to new opportunities quickly.\n",
       "\n",
       "#### Recommended Actions\n",
       "1. **Technology Audit**: Conduct a thorough review of current technological infrastructure to identify areas for improvement.\n",
       "2. **R&D Investment**: Allocate a portion of the budget to research and development to acquire and integrate advanced technologies.\n",
       "3. **Partnerships with Tech Firms**: Build relationships with technology companies to gain access to the latest innovations and insights.\n",
       "\n",
       "### Need for Clear Evil Scheme Direction\n",
       "\n",
       "#### Impacts\n",
       "1. **Lack of Focus**: Unclear objectives may lead to disorganized lab activities and a lack of purpose among scientists.\n",
       "2. **Wasted Resources**: Without clear direction, resources may be misallocated, affecting the overall effectiveness of operations.\n",
       "3. **Decreased Motivation**: Ambiguity in project goals can reduce motivation and engagement levels of the team.\n",
       "\n",
       "#### Recommended Actions\n",
       "1. **Regular Strategy Meetings**: Hold consistent meetings to clarify objectives, align on goals, and ensure everyone is on the same page.\n",
       "2. **Develop a Strategic Roadmap**: Outline a clear plan detailing short-term and long-term evil schemes, objectives, and expected outcomes.\n",
       "3. **Encourage Open Communication**: Foster an environment where scientists feel comfortable voicing concerns and suggestions about scheme direction.\n",
       "\n",
       "### Prioritization of Actions\n",
       "\n",
       "1. **Invest in Equipment Reliability and Technology**:\n",
       "   - Aligning with the fast-paced changes in the villain industry, prioritize technology upgrades and equipment maintenance. This ensures scientists like Dr. Nefario can operate without interruptions and stay ahead of evil trends.\n",
       "\n",
       "2. **Establish Clear Scheme Direction**:\n",
       "   - Develop a comprehensive strategy that delineates the goals and future direction of Gru's operations. Clear communication and objective alignment are critical for maximizing lab efficiency and morale.\n",
       "\n",
       "3. **Foster Innovation and Adaptability**:\n",
       "   - Encourage an innovative culture that can quickly adapt to changes in the industry. This approach not only strengthens current operations but also prepares the lab for future challenges and developments. \n",
       "\n",
       "By addressing these priorities, Gru can bolster the effectiveness and efficiency of his operations while enhancing the satisfaction and productivity of Dr. Nefario and his team."
      ],
      "text/plain": [
       "<IPython.core.display.Markdown object>"
      ]
     },
     "metadata": {},
     "output_type": "display_data"
    },
    {
     "data": {
      "text/markdown": [
       "### Gru (Boss)"
      ],
      "text/plain": [
       "<IPython.core.display.Markdown object>"
      ]
     },
     "metadata": {},
     "output_type": "display_data"
    },
    {
     "data": {
      "text/markdown": [
       "**Impact Analysis on Gru's Operations**\n",
       "\n",
       "**1. Industry Trends and Changes**\n",
       "The evil villain industry has been undergoing several shifts and developments in recent years, with a more technology-driven approach, increased competition from emerging villains, and heightened surveillance and regulatory scrutiny. These changes directly impact Gru's operations where being innovative, discreet, and cost-effective while maintaining a high success rate for missions becomes crucial.\n",
       "\n",
       "**2. Specific Impacts on Gru's Operations**\n",
       "\n",
       "*2.1. Increased Competition*\n",
       "- **Impact**: New players entering the industry bring fresh ideas and advanced tech, intensifying the competition.\n",
       "- **Priority**: High\n",
       "- **Recommended Action**: Gru must focus on leveraging unique assets, such as his minions, and invest in cutting-edge technology to stay ahead. Enhancing creative aspects and leveraging distinctive villainous traits can thwart new competition.\n",
       "\n",
       "*2.2. Enhanced Surveillance and Scrutiny*\n",
       "- **Impact**: Heightened monitoring from law enforcement and rival villains, making schemes harder to execute.\n",
       "- **Priority**: Medium\n",
       "- **Recommended Actions**: Implement advanced counter-surveillance tech and ensure plans are discreet and agile. Regularly update security protocols for operational centers and personnel.\n",
       "\n",
       "*2.3. Technology Integration and Innovation*\n",
       "- **Impact**: Necessity for tech-driven methodologies in villainy to execute complex plans effectively.\n",
       "- **Priority**: High\n",
       "- **Recommended Actions**: Invest in research and development for new tech tools. Engage in partnerships or acquisitions of tech firms specializing in stealth and cyber operations to bolster capabilities.\n",
       "\n",
       "*2.4. Cost-Effectiveness and Resource Optimization*\n",
       "- **Impact**: Rising costs for sophisticated equipment and operational necessities Pressure to streamline operations.\n",
       "- **Priority**: Critical\n",
       "- **Recommended Actions**: Initiate process audits to pinpoint cost-saving opportunities and purging inefficiencies. Optimize minion deployment to reduce resource waste, potentially using AI-driven schedules and roles allocation.\n",
       "\n",
       "*2.5. Reputation Management*\n",
       "- **Impact**: Risk of reputational damage from mission failures could deter alliances and lead to loss of fear factor among competitors.\n",
       "- **Priority**: High\n",
       "- **Recommended Actions**: Develop a comprehensive PR strategy to manage public perception effectively. Prioritize operations planning with backup plans and risk assessments to mitigate the chances of high-profile failures.\n",
       "\n",
       "**3. Strategic Recommendations**\n",
       "\n",
       "*3.1. Diversify Mission Portfolios*\n",
       "Explore varied villainous activities that blend high-payoff and low-profile schemes to minimize risks and maintain consistent success rates.\n",
       "\n",
       "*3.2. Continuous Training and Development*\n",
       "Ensure all personnel, including minions, receive ongoing training to enhance their effectiveness in evolving operational landscapes.\n",
       "\n",
       "*3.3. Strategic Alliances and Collaborations*\n",
       "Seek strategic partnerships with other villains who offer complementary skills or technologies. This creates synergy while sharing resources and risks.\n",
       "\n",
       "*3.4. Corporate Social Responsibility (CSR)*\n",
       "Develop villainy-themed CSR initiatives to maintain a positive public image while covertly advancing villainous aims under guises of community involvement.\n",
       "\n",
       "**Conclusion**\n",
       "Gru must adapt rapidly to industry changes with a focus on integrating advanced technology, optimizing operations cost-effectively, and ensuring nuanced execution of schemes to enhance success rates and fortify his reputation. By adopting a proactive approach grounded in innovation and strategic alliances, Gru can position himself as a leader within the evolving landscape of the villain industry."
      ],
      "text/plain": [
       "<IPython.core.display.Markdown object>"
      ]
     },
     "metadata": {},
     "output_type": "display_data"
    },
    {
     "data": {
      "text/markdown": [
       "### Gadget Suppliers"
      ],
      "text/plain": [
       "<IPython.core.display.Markdown object>"
      ]
     },
     "metadata": {},
     "output_type": "display_data"
    },
    {
     "data": {
      "text/markdown": [
       "**Impact Analysis on Gadget Suppliers**\n",
       "\n",
       "**1. Production Capacity Constraints**\n",
       "\n",
       "- **Impact:**\n",
       "  - Suppliers may face difficulties meeting large, sudden orders from evil villain ventures, such as those orchestrated by Gru. This could lead to delays in obtaining necessary gadgets, potentially hampering operations that depend on specific timelines or covert activities.\n",
       "  - A shortage of gadgets could force Gru to prioritize certain operations over others, possibly affecting the scope of his villainous endeavors.\n",
       "\n",
       "- **Recommended Actions:**\n",
       "  - Establish long-term contracts with key suppliers to guarantee a steady flow of gadgets and avoid sudden disruptions.\n",
       "  - Develop strategic partnerships or consider investing in smaller gadget manufacturing companies to increase control over the supply chain and buffer against capacity constraints.\n",
       "  - Maintain a reserve inventory of essential gadgets to provide a cushion during peak demand periods.\n",
       "\n",
       "**2. Price Pressures from Competition**\n",
       "\n",
       "- **Impact:**\n",
       "  - Increased competition among gadget suppliers can drive up the prices of raw materials and finished products, raising operational costs for Gru.\n",
       "  - Gru might face tighter budget constraints when planning expansive missions, impacting the overall execution and profitability of these missions.\n",
       "\n",
       "- **Recommended Actions:**\n",
       "  - Conduct a thorough market analysis to identify cost-effective suppliers offering competitive pricing without compromising quality.\n",
       "  - Leverage Gru's industry influence by negotiating bulk discounts or loyalty-based pricing with existing suppliers.\n",
       "  - Diversify the supply base to include international suppliers in regions with lower production costs, although this might involve increased logistical considerations.\n",
       "\n",
       "**3. Technology Upgrade Transitions**\n",
       "\n",
       "- **Impact:**\n",
       "  - The transition towards advanced technology requires suppliers to innovate, potentially leading to supply shortages of older, familiar gadgets. Gru might need to adapt to new technologies rapidly, which could involve training and a steep learning curve for his team.\n",
       "  - If competitors adopt new technologies faster, Gru might face strategic disadvantages, impacting the success of his plans against rivals.\n",
       "\n",
       "- **Recommended Actions:**\n",
       "  - Invest in R&D to stay at the forefront of technology evolution, ensuring Gru’s team can adapt and integrate new gadgets smoothly into operations.\n",
       "  - Initiate a flexible operational strategy that allows for quick adaptation to new technologies while phasing out obsolete gadgets.\n",
       "  - Foster a close relationship with tech-forward suppliers to gain early access to the latest gadgets and innovations.\n",
       "\n",
       "**Priorities for Gru's Operations Moving Forward**\n",
       "\n",
       "1. **Strengthen Supply Chain Resilience:**\n",
       "   - Focus on building robust relationships with multiple suppliers to mitigate risks from capacity constraints and price fluctuations.\n",
       "\n",
       "2. **Optimize Cost Management:**\n",
       "   - Apply strategic financial planning to maintain a balance between quality and cost, ensuring that technological advancements don't outstrip resource capabilities.\n",
       "\n",
       "3. **Ensure Technological Adaptability:**\n",
       "   - Encourage continuous learning and development within Gru's team, ensuring they remain agile and capable of integrating new gadgets effectively and efficiently.\n",
       "\n",
       "By addressing these areas, Gru can minimize the disruption from industry changes, maintain a competitive edge, and ensure the continuity and success of his villainous operations."
      ],
      "text/plain": [
       "<IPython.core.display.Markdown object>"
      ]
     },
     "metadata": {},
     "output_type": "display_data"
    }
   ],
   "source": [
    "stakeholders = [\n",
    "    \"\"\"Minions:\n",
    "    - Banana supply dependent\n",
    "    - Want latest gadgets\n",
    "    - Safety concerns with explosions\"\"\",\n",
    "    \n",
    "    \"\"\"Lab Scientists (Dr. Nefario):\n",
    "    - Equipment reliability worries\n",
    "    - Need advanced technology\n",
    "    - Want clear evil scheme direction\"\"\",\n",
    "    \n",
    "    \"\"\"Gru (Boss):\n",
    "    - Expects successful missions\n",
    "    - Want cost-effective operations\n",
    "    - Reputation risks with failed schemes\"\"\",\n",
    "    \n",
    "    \"\"\"Gadget Suppliers:\n",
    "    - Production capacity constraints\n",
    "    - Price pressures from competition\n",
    "    - Technology upgrade transitions\"\"\"\n",
    "]\n",
    "\n",
    "impact_results = await parallel(\n",
    "    \"\"\"Analyze how changes in the evil villain industry will impact this stakeholder group.\n",
    "    Provide specific impacts and recommended actions for Gru's operations.\n",
    "    Format with clear sections and priorities.\"\"\",\n",
    "    stakeholders\n",
    ")\n",
    "\n",
    "for stakeholder, result in zip(stakeholders, impact_results):\n",
    "    show(result, stakeholder.split(':')[0])"
   ]
  },
  {
   "cell_type": "code",
   "execution_count": null,
   "metadata": {},
   "outputs": [],
   "source": []
  }
 ],
 "metadata": {
  "kernelspec": {
   "display_name": ".venv (3.13.2)",
   "language": "python",
   "name": "python3"
  },
  "language_info": {
   "codemirror_mode": {
    "name": "ipython",
    "version": 3
   },
   "file_extension": ".py",
   "mimetype": "text/x-python",
   "name": "python",
   "nbconvert_exporter": "python",
   "pygments_lexer": "ipython3",
   "version": "3.13.2"
  }
 },
 "nbformat": 4,
 "nbformat_minor": 2
}
