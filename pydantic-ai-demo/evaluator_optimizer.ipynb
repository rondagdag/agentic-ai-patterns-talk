{
 "cells": [
  {
   "cell_type": "markdown",
   "metadata": {},
   "source": [
    "# Building Effective Agents (with Pydantic AI)\n",
    "\n",
    "Examples for the agentic workflows discussed in\n",
    "[Building Effective Agents](https://www.anthropic.com/research/building-effective-agents)\n",
    "by [Erik Schluntz](https://github.com/eschluntz) and [Barry Zhang](https://github.com/ItsBarryZ)\n",
    "of Anthropic, inspired, ported and adapted from the\n",
    "[code samples](https://github.com/anthropics/anthropic-cookbook/tree/main/patterns/agents)\n",
    "by the authors using [Pydantic AI](https://ai.pydantic.dev/).\n",
    "\n",
    "## Evaluator - Optimizer\n",
    "Examples are based from [Intellectronica - Building Effective Agents with Pydantic AI](https://github.com/intellectronica/building-effective-agents-with-pydantic-ai)"
   ]
  },
  {
   "cell_type": "code",
   "execution_count": 1,
   "metadata": {},
   "outputs": [],
   "source": [
    "%pip install -r requirements.txt\n",
    "from IPython.display import clear_output ; clear_output()"
   ]
  },
  {
   "cell_type": "code",
   "execution_count": 2,
   "metadata": {},
   "outputs": [
    {
     "name": "stdout",
     "output_type": "stream",
     "text": [
      "Available AI models:\n",
      "['azure:gpt-4o', 'azure:gpt-4o-mini']\n",
      "\n",
      "Using AI model: azure:gpt-4o\n",
      "Configuring Azure AI Foundry model: gpt-4o at https://agent-workshop-yrkd.cognitiveservices.azure.com/\n"
     ]
    }
   ],
   "source": [
    "from util import initialize, show\n",
    "AI_MODEL = initialize()\n",
    "\n",
    "from typing import List, Dict\n",
    "\n",
    "from pydantic import BaseModel, Field\n",
    "from pydantic_ai import Agent"
   ]
  },
  {
   "cell_type": "markdown",
   "metadata": {},
   "source": [
    "### Workflow: Evaluator - Optimizer\n",
    "\n",
    "While executing a single call to an LLM with a good prompt and sufficient context\n",
    "often yields satisfactory results, the first run isn't always the best we can\n",
    "achieve. By iteratively getting the LLM to generate a result, and then evaluate\n",
    "the result and propose improvements, we can achieve much higher quality.\n",
    "\n",
    "> <img src=\"https://ai.pydantic.dev/img/pydantic-ai-dark.svg\" style=\"height: 1em;\" />\n",
    "> The schema definition derived from the Pydantic models we define is primarily\n",
    "> used to control the result we read from the LLM call, but in many cases it\n",
    "> is also possible to use it to instruct the LLM on the desired behaviour.\n",
    "> Here, for example, we use a `thoughts` field to get the LLM to engage in\n",
    "> \"chain-of-thought\" generation, which helps it in reasoning. By generating the\n",
    "> content of this field, the LLM directs itself towards a more detailed and precise\n",
    "> response. Even if we don't need to read the value generated, we can still inspect\n",
    "> it in debugging or using an observability tool like Pydantic Logfire to understand\n",
    "> how the LLM approaches the challenge."
   ]
  },
  {
   "cell_type": "code",
   "execution_count": 3,
   "metadata": {},
   "outputs": [],
   "source": [
    "class GeneratorResponse(BaseModel):\n",
    "    thoughts: str = Field(..., description=(\n",
    "        'Your understanding of the task and feedback '\n",
    "        'and how you plan to improve.'\n",
    "    ))\n",
    "    response: str = Field(..., description='The generated solution.')\n",
    "\n",
    "\n",
    "async def generate(prompt: str, task: str, context: str = \"\") -> tuple[str, str]:\n",
    "    \"\"\"Generate and improve a solution based on feedback.\"\"\"\n",
    "    system_prompt = prompt\n",
    "    if context:\n",
    "        system_prompt += f\"\\n\\n{context}\"\n",
    "\n",
    "    generator_agent = Agent(\n",
    "        AI_MODEL,\n",
    "        system_prompt=system_prompt,\n",
    "        output_type=GeneratorResponse,\n",
    "    )\n",
    "    response = await generator_agent.run(f'Task:\\n{task}')\n",
    "\n",
    "    thoughts = response.output.thoughts\n",
    "    result = response.output.response\n",
    "    \n",
    "    show('', title='Generation')\n",
    "    show(thoughts, title='Thoughts')\n",
    "    show(result, title='Generated')\n",
    "    \n",
    "    return thoughts, result\n",
    "\n",
    "\n",
    "class EvaluatorResponse(BaseModel):\n",
    "    thoughts: str = Field(..., description=(\n",
    "        'Your careful and detailed review and evaluation of the submited content.'\n",
    "    ))\n",
    "    evaluation: str = Field(..., description='PASS, NEEDS_IMPROVEMENT, or FAIL')\n",
    "    feedback: str = Field(..., description='What needs improvement and why.')\n",
    "\n",
    "\n",
    "async def evaluate(prompt: str, content: str, task: str) -> tuple[str, str]:\n",
    "    \"\"\"Evaluate if a solution meets requirements.\"\"\"\n",
    "    evaluator_agent = Agent(\n",
    "        AI_MODEL,\n",
    "        system_prompt=f'{prompt}\\n\\nTask:\\n{task}',\n",
    "        output_type=EvaluatorResponse,\n",
    "    )\n",
    "    response = await evaluator_agent.run(content)\n",
    "    evaluation = response.output.evaluation\n",
    "    feedback = response.output.feedback\n",
    "    \n",
    "    show('', title='Evaluation')\n",
    "    show(evaluation, title='Status')\n",
    "    show(feedback, title='Feedback')\n",
    "    \n",
    "    return evaluation, feedback\n",
    "\n",
    "\n",
    "async def loop(\n",
    "        task: str, evaluator_prompt: str, generator_prompt: str\n",
    "    ) -> tuple[str, list[dict]]:\n",
    "    \"\"\"Keep generating and evaluating until requirements are met.\"\"\"\n",
    "    memory = []\n",
    "    chain_of_thought = []\n",
    "    \n",
    "    thoughts, result = await generate(generator_prompt, task)\n",
    "    memory.append(result)\n",
    "    chain_of_thought.append({\"thoughts\": thoughts, \"result\": result})\n",
    "    \n",
    "    while True:\n",
    "        evaluation, feedback = await evaluate(evaluator_prompt, result, task)\n",
    "        if evaluation == \"PASS\":\n",
    "            return result, chain_of_thought\n",
    "            \n",
    "        context = \"\\n\".join([\n",
    "            \"Previous attempts:\",\n",
    "            *[f\"- {m}\" for m in memory],\n",
    "            f\"\\nFeedback: {feedback}\"\n",
    "        ])\n",
    "        \n",
    "        thoughts, result = await generate(generator_prompt, task, context)\n",
    "        memory.append(result)\n",
    "        chain_of_thought.append({\"thoughts\": thoughts, \"result\": result})"
   ]
  },
  {
   "cell_type": "code",
   "execution_count": 4,
   "metadata": {},
   "outputs": [
    {
     "data": {
      "text/markdown": [
       "### Generation"
      ],
      "text/plain": [
       "<IPython.core.display.Markdown object>"
      ]
     },
     "metadata": {},
     "output_type": "display_data"
    },
    {
     "data": {
      "text/markdown": [
       "### Thoughts"
      ],
      "text/plain": [
       "<IPython.core.display.Markdown object>"
      ]
     },
     "metadata": {},
     "output_type": "display_data"
    },
    {
     "data": {
      "text/markdown": [
       "```\n",
       "The task is to implement a stack with three operations: push, pop, and getMin, all in O(1) time complexity. This can be achieved by maintaining an auxiliary stack that keeps track of the minimum value at each level of the main stack. In previous feedback, I might not have efficiently explained how 'getMin' works in O(1). This time, I'll add more clarity on how each operation is designed to be constant time by using an auxiliary stack.\n",
       "```"
      ],
      "text/plain": [
       "<IPython.core.display.Markdown object>"
      ]
     },
     "metadata": {},
     "output_type": "display_data"
    },
    {
     "data": {
      "text/markdown": [
       "### Generated"
      ],
      "text/plain": [
       "<IPython.core.display.Markdown object>"
      ]
     },
     "metadata": {},
     "output_type": "display_data"
    },
    {
     "data": {
      "text/markdown": [
       "Here's an implementation in Python:\n",
       "python\n",
       "class MinStack:\n",
       "    def __init__(self):\n",
       "        self.stack = []  # Main stack to store elements\n",
       "        self.min_stack = []  # Auxiliary stack to keep track of minimums\n",
       "\n",
       "    def push(self, x):\n",
       "        self.stack.append(x)\n",
       "        # If min_stack is empty or the current element is smaller than the current minimum, push it to min_stack\n",
       "        if not self.min_stack or x <= self.min_stack[-1]:\n",
       "            self.min_stack.append(x)\n",
       "\n",
       "    def pop(self):\n",
       "        if self.stack:\n",
       "            top = self.stack.pop()\n",
       "            # If the popped element is the current minimum, pop it from min_stack as well\n",
       "            if self.min_stack and top == self.min_stack[-1]:\n",
       "                self.min_stack.pop()\n",
       "\n",
       "    def getMin(self):\n",
       "        if self.min_stack:\n",
       "            return self.min_stack[-1]  # The top of min_stack is the current minimum\n",
       "\n",
       "# Example usage:\n",
       "min_stack = MinStack()\n",
       "min_stack.push(3)\n",
       "min_stack.push(5)\n",
       "print(min_stack.getMin())  # Output: 3\n",
       "min_stack.push(2)\n",
       "min_stack.push(1)\n",
       "print(min_stack.getMin())  # Output: 1\n",
       "min_stack.pop()\n",
       "print(min_stack.getMin())  # Output: 2\n",
       "\n",
       "### Explanation:\n",
       "1. **Push(x)**: When you push an element `x`, it goes to the main stack. If it is less than or equal to the current minimum (or if the min_stack is empty), it is also pushed onto the `min_stack`.\n",
       "2. **Pop()**: Removes the top element from the main stack. If the popped element is the current minimum (i.e., top of `min_stack`), it is also removed from the `min_stack`.\n",
       "3. **GetMin()**: Returns the top of the `min_stack`, which is the current minimum value. All operations are designed to run in O(1) time."
      ],
      "text/plain": [
       "<IPython.core.display.Markdown object>"
      ]
     },
     "metadata": {},
     "output_type": "display_data"
    },
    {
     "data": {
      "text/markdown": [
       "### Evaluation"
      ],
      "text/plain": [
       "<IPython.core.display.Markdown object>"
      ]
     },
     "metadata": {},
     "output_type": "display_data"
    },
    {
     "data": {
      "text/markdown": [
       "### Status"
      ],
      "text/plain": [
       "<IPython.core.display.Markdown object>"
      ]
     },
     "metadata": {},
     "output_type": "display_data"
    },
    {
     "data": {
      "text/markdown": [
       "```\n",
       "NEEDS_IMPROVEMENT\n",
       "```"
      ],
      "text/plain": [
       "<IPython.core.display.Markdown object>"
      ]
     },
     "metadata": {},
     "output_type": "display_data"
    },
    {
     "data": {
      "text/markdown": [
       "### Feedback"
      ],
      "text/plain": [
       "<IPython.core.display.Markdown object>"
      ]
     },
     "metadata": {},
     "output_type": "display_data"
    },
    {
     "data": {
      "text/markdown": [
       "1. **Code Correctness**: The basic implementation seems correct and operations are executed in O(1) time. However, there should be a return value for `pop()` to indicate what element was removed.\n",
       "\n",
       "2. **Time Complexity**: The implementation maintains O(1) time complexity for all operations, meeting the requirements.\n",
       "\n",
       "3. **Efficiency**: The approach is efficient for the problem statement, but handling edge cases such as calling pop or getMin on an empty stack should be considered.\n",
       "\n",
       "4. **Style and Best Practices**: While the code generally follows Python style, using docstrings would be beneficial. Also, the pop method could return the value it removes for better practice.\n",
       "\n",
       "5. **Readability**: The code is mostly readable, but readability could be improved with comments explaining the push and pop operations more clearly.\n",
       "\n",
       "6. **Documentation**: The code lacks docstrings for the class and its methods. Adding these would clarify the purpose and usage of each method. Additionally, specifying the expected behavior when attempting to pop from an empty stack or get the minimum from an empty stack would improve robustness."
      ],
      "text/plain": [
       "<IPython.core.display.Markdown object>"
      ]
     },
     "metadata": {},
     "output_type": "display_data"
    },
    {
     "data": {
      "text/markdown": [
       "### Generation"
      ],
      "text/plain": [
       "<IPython.core.display.Markdown object>"
      ]
     },
     "metadata": {},
     "output_type": "display_data"
    },
    {
     "data": {
      "text/markdown": [
       "### Thoughts"
      ],
      "text/plain": [
       "<IPython.core.display.Markdown object>"
      ]
     },
     "metadata": {},
     "output_type": "display_data"
    },
    {
     "data": {
      "text/markdown": [
       "```\n",
       "The previous implementation of the MinStack class for the stack with push, pop, and getMin operations was conceptually correct. However, it lacked a return value for the pop method and did not handle edge cases for empty stack operations. Additionally, there was a lack of documentation and comments to enhance readability and understanding. I plan to address these issues by adding return values for the pop method, handling scenarios when operations are performed on an empty stack, and including docstrings for the class and methods. I will also add comments for clarity.\n",
       "```"
      ],
      "text/plain": [
       "<IPython.core.display.Markdown object>"
      ]
     },
     "metadata": {},
     "output_type": "display_data"
    },
    {
     "data": {
      "text/markdown": [
       "### Generated"
      ],
      "text/plain": [
       "<IPython.core.display.Markdown object>"
      ]
     },
     "metadata": {},
     "output_type": "display_data"
    },
    {
     "data": {
      "text/markdown": [
       "```python\n",
       "class MinStack:\n",
       "    def __init__(self):\n",
       "        \"\"\"Initialize two stacks: one for general storage and another for tracking minimum values.\"\"\"\n",
       "        self.stack = []  # Main stack to store elements\n",
       "        self.min_stack = []  # Stack to keep track of minimum elements\n",
       "\n",
       "    def push(self, x):\n",
       "        \"\"\"Push an element onto the stack.\n",
       "        If the element is smaller than or equal to the current minimum, push it onto the min_stack as well.\n",
       "        \"\"\"\n",
       "        self.stack.append(x)\n",
       "        if not self.min_stack or x <= self.min_stack[-1]:\n",
       "            self.min_stack.append(x)\n",
       "\n",
       "    def pop(self):\n",
       "        \"\"\"Remove the top element from the stack and return it.\n",
       "        If the popped element is the current minimum, remove it from the min_stack as well.\n",
       "        Returns None if the stack is empty.\n",
       "        \"\"\"\n",
       "        if self.stack:\n",
       "            top = self.stack.pop()\n",
       "            if self.min_stack and top == self.min_stack[-1]:\n",
       "                self.min_stack.pop()\n",
       "            return top\n",
       "        return None\n",
       "\n",
       "    def getMin(self):\n",
       "        \"\"\"Retrieve the current minimum value from the stack.\n",
       "        Returns None if the stack is empty.\n",
       "        \"\"\"\n",
       "        if self.min_stack:\n",
       "            return self.min_stack[-1]\n",
       "        return None\n",
       "\n",
       "# Example usage:\n",
       "min_stack = MinStack()\n",
       "min_stack.push(3)\n",
       "min_stack.push(5)\n",
       "print(min_stack.getMin())  # Output: 3\n",
       "min_stack.push(2)\n",
       "min_stack.push(1)\n",
       "print(min_stack.getMin())  # Output: 1\n",
       "min_stack.pop()\n",
       "print(min_stack.getMin())  # Output: 2\n",
       "min_stack.pop()\n",
       "min_stack.pop()\n",
       "print(min_stack.pop())  # Output: 3\n",
       "print(min_stack.getMin())  # Output: None\n",
       "\n",
       "### Key Improvements:\n",
       "- **Pop Method:** Now returns the value it removes or None if the stack is empty.\n",
       "- **Error Handling:** Both pop and getMin check for empty stacks and return None if they can’t perform operations.\n",
       "- **Documentation:** Added docstrings for the class and methods to clarify their purpose and describe their functionalities.\n",
       "- **Comments:** Enhanced readability with detailed comments explaining the logic further."
      ],
      "text/plain": [
       "<IPython.core.display.Markdown object>"
      ]
     },
     "metadata": {},
     "output_type": "display_data"
    },
    {
     "data": {
      "text/markdown": [
       "### Evaluation"
      ],
      "text/plain": [
       "<IPython.core.display.Markdown object>"
      ]
     },
     "metadata": {},
     "output_type": "display_data"
    },
    {
     "data": {
      "text/markdown": [
       "### Status"
      ],
      "text/plain": [
       "<IPython.core.display.Markdown object>"
      ]
     },
     "metadata": {},
     "output_type": "display_data"
    },
    {
     "data": {
      "text/markdown": [
       "```\n",
       "PASS\n",
       "```"
      ],
      "text/plain": [
       "<IPython.core.display.Markdown object>"
      ]
     },
     "metadata": {},
     "output_type": "display_data"
    },
    {
     "data": {
      "text/markdown": [
       "### Feedback"
      ],
      "text/plain": [
       "<IPython.core.display.Markdown object>"
      ]
     },
     "metadata": {},
     "output_type": "display_data"
    },
    {
     "data": {
      "text/markdown": [
       "### Final Result"
      ],
      "text/plain": [
       "<IPython.core.display.Markdown object>"
      ]
     },
     "metadata": {},
     "output_type": "display_data"
    },
    {
     "data": {
      "text/markdown": [
       "```python\n",
       "class MinStack:\n",
       "    def __init__(self):\n",
       "        \"\"\"Initialize two stacks: one for general storage and another for tracking minimum values.\"\"\"\n",
       "        self.stack = []  # Main stack to store elements\n",
       "        self.min_stack = []  # Stack to keep track of minimum elements\n",
       "\n",
       "    def push(self, x):\n",
       "        \"\"\"Push an element onto the stack.\n",
       "        If the element is smaller than or equal to the current minimum, push it onto the min_stack as well.\n",
       "        \"\"\"\n",
       "        self.stack.append(x)\n",
       "        if not self.min_stack or x <= self.min_stack[-1]:\n",
       "            self.min_stack.append(x)\n",
       "\n",
       "    def pop(self):\n",
       "        \"\"\"Remove the top element from the stack and return it.\n",
       "        If the popped element is the current minimum, remove it from the min_stack as well.\n",
       "        Returns None if the stack is empty.\n",
       "        \"\"\"\n",
       "        if self.stack:\n",
       "            top = self.stack.pop()\n",
       "            if self.min_stack and top == self.min_stack[-1]:\n",
       "                self.min_stack.pop()\n",
       "            return top\n",
       "        return None\n",
       "\n",
       "    def getMin(self):\n",
       "        \"\"\"Retrieve the current minimum value from the stack.\n",
       "        Returns None if the stack is empty.\n",
       "        \"\"\"\n",
       "        if self.min_stack:\n",
       "            return self.min_stack[-1]\n",
       "        return None\n",
       "\n",
       "# Example usage:\n",
       "min_stack = MinStack()\n",
       "min_stack.push(3)\n",
       "min_stack.push(5)\n",
       "print(min_stack.getMin())  # Output: 3\n",
       "min_stack.push(2)\n",
       "min_stack.push(1)\n",
       "print(min_stack.getMin())  # Output: 1\n",
       "min_stack.pop()\n",
       "print(min_stack.getMin())  # Output: 2\n",
       "min_stack.pop()\n",
       "min_stack.pop()\n",
       "print(min_stack.pop())  # Output: 3\n",
       "print(min_stack.getMin())  # Output: None\n",
       "\n",
       "### Key Improvements:\n",
       "- **Pop Method:** Now returns the value it removes or None if the stack is empty.\n",
       "- **Error Handling:** Both pop and getMin check for empty stacks and return None if they can’t perform operations.\n",
       "- **Documentation:** Added docstrings for the class and methods to clarify their purpose and describe their functionalities.\n",
       "- **Comments:** Enhanced readability with detailed comments explaining the logic further."
      ],
      "text/plain": [
       "<IPython.core.display.Markdown object>"
      ]
     },
     "metadata": {},
     "output_type": "display_data"
    },
    {
     "data": {
      "text/markdown": [
       "### Chain of Thought"
      ],
      "text/plain": [
       "<IPython.core.display.Markdown object>"
      ]
     },
     "metadata": {},
     "output_type": "display_data"
    },
    {
     "data": {
      "text/markdown": [
       "```\n",
       "[{'result': \"Here's an implementation in Python:\\n\"\n",
       "            '\\n'\n",
       "            '```python\\n'\n",
       "            'class MinStack:\\n'\n",
       "            '    def __init__(self):\\n'\n",
       "            '        self.stack = []  # Main stack to store elements\\n'\n",
       "            '        self.min_stack = []  # Auxiliary stack to keep track of '\n",
       "            'minimums\\n'\n",
       "            '\\n'\n",
       "            '    def push(self, x):\\n'\n",
       "            '        self.stack.append(x)\\n'\n",
       "            '        # If min_stack is empty or the current element is smaller '\n",
       "            'than the current minimum, push it to min_stack\\n'\n",
       "            '        if not self.min_stack or x <= self.min_stack[-1]:\\n'\n",
       "            '            self.min_stack.append(x)\\n'\n",
       "            '\\n'\n",
       "            '    def pop(self):\\n'\n",
       "            '        if self.stack:\\n'\n",
       "            '            top = self.stack.pop()\\n'\n",
       "            '            # If the popped element is the current minimum, pop '\n",
       "            'it from min_stack as well\\n'\n",
       "            '            if self.min_stack and top == self.min_stack[-1]:\\n'\n",
       "            '                self.min_stack.pop()\\n'\n",
       "            '\\n'\n",
       "            '    def getMin(self):\\n'\n",
       "            '        if self.min_stack:\\n'\n",
       "            '            return self.min_stack[-1]  # The top of min_stack is '\n",
       "            'the current minimum\\n'\n",
       "            '\\n'\n",
       "            '# Example usage:\\n'\n",
       "            'min_stack = MinStack()\\n'\n",
       "            'min_stack.push(3)\\n'\n",
       "            'min_stack.push(5)\\n'\n",
       "            'print(min_stack.getMin())  # Output: 3\\n'\n",
       "            'min_stack.push(2)\\n'\n",
       "            'min_stack.push(1)\\n'\n",
       "            'print(min_stack.getMin())  # Output: 1\\n'\n",
       "            'min_stack.pop()\\n'\n",
       "            'print(min_stack.getMin())  # Output: 2\\n'\n",
       "            '```\\n'\n",
       "            '\\n'\n",
       "            '### Explanation:\\n'\n",
       "            '1. **Push(x)**: When you push an element `x`, it goes to the main '\n",
       "            'stack. If it is less than or equal to the current minimum (or if '\n",
       "            'the min_stack is empty), it is also pushed onto the `min_stack`.\\n'\n",
       "            '2. **Pop()**: Removes the top element from the main stack. If the '\n",
       "            'popped element is the current minimum (i.e., top of `min_stack`), '\n",
       "            'it is also removed from the `min_stack`.\\n'\n",
       "            '3. **GetMin()**: Returns the top of the `min_stack`, which is the '\n",
       "            'current minimum value. All operations are designed to run in O(1) '\n",
       "            'time.',\n",
       "  'thoughts': 'The task is to implement a stack with three operations: push, '\n",
       "              'pop, and getMin, all in O(1) time complexity. This can be '\n",
       "              'achieved by maintaining an auxiliary stack that keeps track of '\n",
       "              'the minimum value at each level of the main stack. In previous '\n",
       "              \"feedback, I might not have efficiently explained how 'getMin' \"\n",
       "              \"works in O(1). This time, I'll add more clarity on how each \"\n",
       "              'operation is designed to be constant time by using an auxiliary '\n",
       "              'stack.'},\n",
       " {'result': '```python\\n'\n",
       "            'class MinStack:\\n'\n",
       "            '    def __init__(self):\\n'\n",
       "            '        \"\"\"Initialize two stacks: one for general storage and '\n",
       "            'another for tracking minimum values.\"\"\"\\n'\n",
       "            '        self.stack = []  # Main stack to store elements\\n'\n",
       "            '        self.min_stack = []  # Stack to keep track of minimum '\n",
       "            'elements\\n'\n",
       "            '\\n'\n",
       "            '    def push(self, x):\\n'\n",
       "            '        \"\"\"Push an element onto the stack.\\n'\n",
       "            '        If the element is smaller than or equal to the current '\n",
       "            'minimum, push it onto the min_stack as well.\\n'\n",
       "            '        \"\"\"\\n'\n",
       "            '        self.stack.append(x)\\n'\n",
       "            '        if not self.min_stack or x <= self.min_stack[-1]:\\n'\n",
       "            '            self.min_stack.append(x)\\n'\n",
       "            '\\n'\n",
       "            '    def pop(self):\\n'\n",
       "            '        \"\"\"Remove the top element from the stack and return it.\\n'\n",
       "            '        If the popped element is the current minimum, remove it '\n",
       "            'from the min_stack as well.\\n'\n",
       "            '        Returns None if the stack is empty.\\n'\n",
       "            '        \"\"\"\\n'\n",
       "            '        if self.stack:\\n'\n",
       "            '            top = self.stack.pop()\\n'\n",
       "            '            if self.min_stack and top == self.min_stack[-1]:\\n'\n",
       "            '                self.min_stack.pop()\\n'\n",
       "            '            return top\\n'\n",
       "            '        return None\\n'\n",
       "            '\\n'\n",
       "            '    def getMin(self):\\n'\n",
       "            '        \"\"\"Retrieve the current minimum value from the stack.\\n'\n",
       "            '        Returns None if the stack is empty.\\n'\n",
       "            '        \"\"\"\\n'\n",
       "            '        if self.min_stack:\\n'\n",
       "            '            return self.min_stack[-1]\\n'\n",
       "            '        return None\\n'\n",
       "            '\\n'\n",
       "            '# Example usage:\\n'\n",
       "            'min_stack = MinStack()\\n'\n",
       "            'min_stack.push(3)\\n'\n",
       "            'min_stack.push(5)\\n'\n",
       "            'print(min_stack.getMin())  # Output: 3\\n'\n",
       "            'min_stack.push(2)\\n'\n",
       "            'min_stack.push(1)\\n'\n",
       "            'print(min_stack.getMin())  # Output: 1\\n'\n",
       "            'min_stack.pop()\\n'\n",
       "            'print(min_stack.getMin())  # Output: 2\\n'\n",
       "            'min_stack.pop()\\n'\n",
       "            'min_stack.pop()\\n'\n",
       "            'print(min_stack.pop())  # Output: 3\\n'\n",
       "            'print(min_stack.getMin())  # Output: None\\n'\n",
       "            '```\\n'\n",
       "            '\\n'\n",
       "            '### Key Improvements:\\n'\n",
       "            '- **Pop Method:** Now returns the value it removes or None if the '\n",
       "            'stack is empty.\\n'\n",
       "            '- **Error Handling:** Both pop and getMin check for empty stacks '\n",
       "            'and return None if they can’t perform operations.\\n'\n",
       "            '- **Documentation:** Added docstrings for the class and methods '\n",
       "            'to clarify their purpose and describe their functionalities.\\n'\n",
       "            '- **Comments:** Enhanced readability with detailed comments '\n",
       "            'explaining the logic further.',\n",
       "  'thoughts': 'The previous implementation of the MinStack class for the stack '\n",
       "              'with push, pop, and getMin operations was conceptually correct. '\n",
       "              'However, it lacked a return value for the pop method and did '\n",
       "              'not handle edge cases for empty stack operations. Additionally, '\n",
       "              'there was a lack of documentation and comments to enhance '\n",
       "              'readability and understanding. I plan to address these issues '\n",
       "              'by adding return values for the pop method, handling scenarios '\n",
       "              'when operations are performed on an empty stack, and including '\n",
       "              'docstrings for the class and methods. I will also add comments '\n",
       "              'for clarity.'}]\n",
       "```"
      ],
      "text/plain": [
       "<IPython.core.display.Markdown object>"
      ]
     },
     "metadata": {},
     "output_type": "display_data"
    }
   ],
   "source": [
    "evaluator_prompt = \"\"\"\n",
    "Evaluate this following code implementation for:\n",
    "1. Code correctness: does it implement what is required in the spec flawlessly?\n",
    "2. Time complexity: does the implementation meet the time complexity requirements?\n",
    "3. Efficiency: is the implementation the most efficient and optimized possible for the requirements?\n",
    "4. Style and best practices: does the code follow standard Python style and best practices?\n",
    "5. Readability: is the code easy to read and understand?\n",
    "6. Documentation: is the code clearly documented, with docstrings for all functions and classes, and with inline comments where necessary?\n",
    "\n",
    "You should be evaluating only and not attemping to solve the task.\n",
    "Evaluate the code carefully and critically and make sure you don't\n",
    "miss any opportunities for improvement.\n",
    "Only output \"PASS\" if all the evaluation criteria are met and you\n",
    "have no further suggestions for improvements, otherwise output\n",
    "\"NEEDS_IMPROVEMENT\" or \"FAIL\" so that the coder can learn and improve.\n",
    "\"\"\"\n",
    "\n",
    "generator_prompt = \"\"\"\n",
    "Your goal is to complete the task based on the user input. If there are feedback \n",
    "from your previous generations, you should reflect on them to improve your solution.\"\"\"\n",
    "\n",
    "task = \"\"\"\n",
    "Implement a Stack with:\n",
    "1. push(x)\n",
    "2. pop()\n",
    "3. getMin()\n",
    "All operations should be O(1).\n",
    "\"\"\"\n",
    "\n",
    "result, chain_of_thought = await loop(task, evaluator_prompt, generator_prompt)\n",
    "\n",
    "show(result, title='Final Result')\n",
    "show(chain_of_thought, title='Chain of Thought')"
   ]
  },
  {
   "cell_type": "code",
   "execution_count": null,
   "metadata": {},
   "outputs": [],
   "source": []
  }
 ],
 "metadata": {
  "kernelspec": {
   "display_name": ".venv (3.13.2)",
   "language": "python",
   "name": "python3"
  },
  "language_info": {
   "codemirror_mode": {
    "name": "ipython",
    "version": 3
   },
   "file_extension": ".py",
   "mimetype": "text/x-python",
   "name": "python",
   "nbconvert_exporter": "python",
   "pygments_lexer": "ipython3",
   "version": "3.13.2"
  }
 },
 "nbformat": 4,
 "nbformat_minor": 2
}
